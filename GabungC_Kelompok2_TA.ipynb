{
  "cells": [
    {
      "cell_type": "markdown",
      "metadata": {
        "id": "view-in-github",
        "colab_type": "text"
      },
      "source": [
        "<a href=\"https://colab.research.google.com/github/Desi-Noviana/TUGAS-Kelompok/blob/main/GabungC_Kelompok2_TA.ipynb\" target=\"_parent\"><img src=\"https://colab.research.google.com/assets/colab-badge.svg\" alt=\"Open In Colab\"/></a>"
      ]
    },
    {
      "cell_type": "markdown",
      "metadata": {
        "id": "d3u8JI61KKzM"
      },
      "source": [
        "<center> # **TUGAS AKHIR PRAKTIKUM TEXT MINING**"
      ]
    },
    {
      "cell_type": "markdown",
      "metadata": {
        "id": "izJs9EaNKKzY"
      },
      "source": [
        "Build Date | May, 4th 2020\n",
        "--- | ---\n",
        "Desi Noviana | 06511789\n",
        "M. Tajussyarof S | 065117221"
      ]
    },
    {
      "cell_type": "markdown",
      "metadata": {
        "id": "0Fy1gjKEKKzb"
      },
      "source": [
        "## **A.PROCESS**"
      ]
    },
    {
      "cell_type": "markdown",
      "metadata": {
        "id": "MEA_KJ0PKKzd"
      },
      "source": [
        "### **1. Import Library**\n",
        "Pertama, sebelum kita mengerjakan Tugas akhir ini alangkah lebih baik jika kita\n",
        "melakukan import library agar lebih memudahkan kita dalam memproses data dan mendapatkan hasil yang lebih baik.\n",
        "\n",
        "Kali ini kelompok kami menggunakan 3 library yaitu:\n",
        "1. `RE`\n",
        "2. `Sastrawi`, dan\n",
        "3. `Scikit-Learn`\n",
        "\n",
        "Setelah kita selesai memanggil librarynya lalu kita lanjutkan dengan memanggil \n",
        "fungsi yang akan digunakan.\n",
        "\n",
        "Disini untuk fungsi yang digunakan adalah:\n",
        "1. `CountVectorizer`,\n",
        "2. `tfidfVectorizer`, dan\n",
        "3. `StemmerFactory."
      ]
    },
    {
      "cell_type": "code",
      "execution_count": null,
      "metadata": {
        "id": "NDsVwanQKKze"
      },
      "outputs": [],
      "source": [
        "import re\n",
        "\n",
        "from sklearn.feature_extraction.text import CountVectorizer\n",
        "from sklearn.feature_extraction.text import TfidfVectorizer\n",
        "from Sastrawi.Stemmer.StemmerFactory import StemmerFactory\n",
        "from Sastrawi.StopWordRemover.StopWordRemoverFactory import StopWordRemoverFactory"
      ]
    },
    {
      "cell_type": "markdown",
      "metadata": {
        "id": "vEpNLzpFKKzh"
      },
      "source": [
        "### **2. Open Text\n",
        "\n",
        "Sebelum melakukan **Natural Language Processing** kami sudah menyiapkan 15 artikel yang membahas tentang Orang Nomor satu di Korea Utara yaitu Kim Jong Un \n",
        "Presiden korea utara, Artikel-artikel ini lalu kami simpan dalam extension .txt lalu, kami *upload* kedalam `Jupyter Notebook`, Setelah itu kita kita tinggal memanggil artikel yang telah kita *upload* tadi."
      ]
    },
    {
      "cell_type": "code",
      "execution_count": null,
      "metadata": {
        "id": "O70JPwzmKKzi"
      },
      "outputs": [],
      "source": [
        "clear_character = re.compile(r\"\\s\")\n",
        "def tokenize(text):\n",
        "    return [tokens.strip().lower() for tokens in clear_character.split(text)]"
      ]
    },
    {
      "cell_type": "code",
      "execution_count": null,
      "metadata": {
        "id": "hlNgl9ctKKzj"
      },
      "outputs": [],
      "source": [
        "file = open(\"Artikel1.txt\",\"r\");\n",
        "doc0 = file.read()\n",
        "\n",
        "file = open(\"Artikel2.txt\",\"r\");\n",
        "doc1 = file.read()\n",
        "\n",
        "file = open(\"Artikel3.txt\",\"r\");\n",
        "doc2 = file.read()\n",
        "\n",
        "file = open(\"Artikel4.txt\",\"r\");\n",
        "doc3 = file.read()\n",
        "\n",
        "file = open(\"Artikel5.txt\",\"r\");\n",
        "doc4 = file.read()\n",
        "\n",
        "file = open(\"Artikel6.txt\",\"r\");\n",
        "doc5 = file.read()\n",
        "\n",
        "file = open(\"Artikel7.txt\",\"r\");\n",
        "doc6 = file.read()\n",
        "\n",
        "file = open(\"Artikel8.txt\",\"r\");\n",
        "doc7 = file.read()\n",
        "\n",
        "file = open(\"Artikel9.txt\",\"r\");\n",
        "doc8 = file.read()\n",
        "\n",
        "file = open(\"Artikel10.txt\",\"r\");\n",
        "doc9 = file.read()\n",
        "\n",
        "file = open(\"Artikel11.txt\",\"r\");\n",
        "doc10 = file.read()\n",
        "\n",
        "file = open(\"Artikel12.txt\",\"r\");\n",
        "doc11 = file.read()\n",
        "\n",
        "file = open(\"Artikel13.txt\",\"r\");\n",
        "doc12 = file.read()\n",
        "\n",
        "file = open(\"Artikel14.txt\",\"r\");\n",
        "doc13 = file.read()\n",
        "\n",
        "file = open(\"Artikel15.txt\",\"r\");\n",
        "doc14 = file.read()"
      ]
    },
    {
      "cell_type": "markdown",
      "metadata": {
        "id": "Oe1b7sySKKzl"
      },
      "source": [
        "## 3. Case Folding\n",
        "    Tidak semua dokumen teks konsisten dalam mengunakan huruf kapital, Oleh karena itu peran Case Folding dibutuhkan dalam mengkonversi keseluruhan teks dalam dokumen menjadi satu bentuk standar, Sebelum itu kita harus tau dulu Apasih Case Folding itu? Case Folding itu sendiri ialah mengubah semua huruf dalam dokuen menjadi huruf kecil. Hanya huruf 'a' sampai 'z' yang diterima, Karakter selain huruf dihilangkan dan dianggagp delimeter.Dalam proses ini kita menggunakan fungsi lower(), yang mana sudah bawaan dari python itu sendiri. \n",
        "    Jadi,kita tidak perlu lagi menggunakan library NLTK."
      ]
    },
    {
      "cell_type": "markdown",
      "metadata": {
        "id": "vTzWADBYKKzm"
      },
      "source": [
        "## a. Menghilangkan Tanda Baca"
      ]
    },
    {
      "cell_type": "code",
      "execution_count": null,
      "metadata": {
        "id": "HFOii2fZKKzo"
      },
      "outputs": [],
      "source": [
        "# Dari tokens yang sudah di proses akan memanggil fungsi pada Stopwords untuk melihat kemunculan\n",
        "#pada setiap tokens\n",
        "tandabaca = [\".\",\",\",\"-\",\"%\",\"(\",\")\",\"?\"]\n",
        "for td in tandabaca:\n",
        "\tdoc0=doc0.replace(td,\"\")\n",
        "\tdoc1=doc1.replace(td,\"\")\n",
        "\tdoc2=doc2.replace(td,\"\")\n",
        "\tdoc3=doc3.replace(td,\"\")\n",
        "\tdoc4=doc4.replace(td,\"\")\n",
        "\tdoc5=doc5.replace(td,\"\")\n",
        "\tdoc6=doc6.replace(td,\"\")\n",
        "\tdoc7=doc7.replace(td,\"\")\n",
        "\tdoc8=doc8.replace(td,\"\")\n",
        "\tdoc9=doc9.replace(td,\"\")\n",
        "\tdoc10=doc10.replace(td,\"\")\n",
        "\tdoc11=doc11.replace(td,\"\")\n",
        "\tdoc12=doc12.replace(td,\"\")\n",
        "\tdoc13=doc13.replace(td,\"\")\n",
        "\tdoc14=doc14.replace(td,\"\")"
      ]
    },
    {
      "cell_type": "markdown",
      "metadata": {
        "id": "kbKCci9WKKzp"
      },
      "source": [
        "## b. Menghilangkan Angka"
      ]
    },
    {
      "cell_type": "code",
      "execution_count": null,
      "metadata": {
        "id": "Lov-32pwKKzq"
      },
      "outputs": [],
      "source": [
        "# untuk memanggil fungsi re.sub dan menyimapan dalam variabel aslinya\n",
        "docs0 = re.sub(r\"\\d+\", \" \", doc0)\n",
        "docs1 = re.sub(r\"\\d+\", \" \", doc1)\n",
        "docs2 = re.sub(r\"\\d+\", \" \", doc2)\n",
        "docs3 = re.sub(r\"\\d+\", \" \", doc3)\n",
        "docs4 = re.sub(r\"\\d+\", \" \", doc4)\n",
        "docs5 = re.sub(r\"\\d+\", \" \", doc5)\n",
        "docs6 = re.sub(r\"\\d+\", \" \", doc6)\n",
        "docs7 = re.sub(r\"\\d+\", \" \", doc7)\n",
        "docs8 = re.sub(r\"\\d+\", \" \", doc8)\n",
        "docs9 = re.sub(r\"\\d+\", \" \", doc9)\n",
        "docs10 = re.sub(r\"\\d+\", \" \", doc10)\n",
        "docs11 = re.sub(r\"\\d+\", \" \", doc11)\n",
        "docs12 = re.sub(r\"\\d+\", \" \", doc12)\n",
        "docs13 = re.sub(r\"\\d+\", \" \", doc13)\n",
        "docs14 = re.sub(r\"\\d+\", \" \", doc14)"
      ]
    },
    {
      "cell_type": "markdown",
      "metadata": {
        "id": "SkkG_5N8KKzr"
      },
      "source": [
        "Fungsi re.sub() untuk mengubah objek yang cocok dengan objek lainnya, dengan metode ini setiap string dapat kita gantikan dengan string yang kita inginkan.fungsi ini digunakan untuk pencarian string menggunakan pola(pattern), fungsi ini memudahkan kita mencari string tertentu dalam teks yang banyak saat ditemukan string yang cocok maka string tersebut bisa diekstrak atau diambil.\n",
        "\n",
        "Metode sub() membutuhkan dua argumen. Argumen pertama adalah string pengganti yang kita inginkan, dan string kedua adalah string pencarian. Metode sub() mengembalikan string pencarian dengan tiap objek yang cocok sudah diganti dengan string pengganti."
      ]
    },
    {
      "cell_type": "markdown",
      "metadata": {
        "id": "qRAtgx7OKKzs"
      },
      "source": [
        "## c. Stopwords\n",
        "stop word merupakan kata yang diabaikan dalam pemrosesan, kata-kata ini biasanya disimpan ke dalam stop lists. Karakteristik utama dalam pemilihan stop word biasanya adalah kata yang mempunyai frekuensi kemunculan yang tinggi misalnya kata penghubung seperti “dan”, “atau”, “tapi”, “akan” dan lainnya. Tidak ada aturan pasti dalam menentukan stop word yang akan digunakan, penentuan stop word bisa disesuaikan dengan kasus yang sedang diselesaikan.\n",
        "\n",
        "Tujuan utama dalam penerapan proses Stopword Removal adalah mengurangi jumlah kata dalam sebuah dokumen yang nantinya akan berpengaruh dalam kecepatan dan peforma dalam kegiatan NLP.\n"
      ]
    },
    {
      "cell_type": "code",
      "execution_count": null,
      "metadata": {
        "id": "bnI6zuBVKKzs"
      },
      "outputs": [],
      "source": [
        "#stopwords\n",
        "\n",
        "factory = StopWordRemoverFactory() # akan disimpan dalam variabel factory\n",
        "stopword = factory.create_stop_word_remover() # setelah fungsi dipanggil akan disimpan dalam variabel stopdocs0-stopdocs14\n",
        "\n",
        "stopdocs0 = stopword.remove(docs0)\n",
        "stopdocs1 = stopword.remove(docs1)\n",
        "stopdocs2 = stopword.remove(docs2)\n",
        "stopdocs3 = stopword.remove(docs3)\n",
        "stopdocs4 = stopword.remove(docs4)\n",
        "stopdocs5 = stopword.remove(docs5)\n",
        "stopdocs6 = stopword.remove(docs6)\n",
        "stopdocs7 = stopword.remove(docs7)\n",
        "stopdocs8 = stopword.remove(docs8)\n",
        "stopdocs9 = stopword.remove(docs9)\n",
        "stopdocs10 = stopword.remove(docs10)\n",
        "stopdocs11 = stopword.remove(docs11)\n",
        "stopdocs12 = stopword.remove(docs12)\n",
        "stopdocs13 = stopword.remove(docs13)\n",
        "stopdocs14 = stopword.remove(docs14)"
      ]
    },
    {
      "cell_type": "markdown",
      "metadata": {
        "id": "5eGwoCHYKKzt"
      },
      "source": [
        "## d. Steaming\n",
        "Teknik Stemming diperlukan selain untuk memperkecil jumlah indeks yang berbeda dari suatu dokumen, juga untuk melakukan pengelompokan kata-kata lain yang memiliki kata dasar dan arti yang serupa namun memiliki bentuk atau form yang berbeda karena mendapatkan imbuhan yang berbeda.\n",
        "\n",
        "Sebagai contoh kata bersama, kebersamaan, menyamai, akan distem ke root word-nya yaitu “sama”. Namun, seperti halnya stopping, kinerja stemming juga bervariasi dan sering tergantung pada domain bahasa yang digunakan."
      ]
    },
    {
      "cell_type": "code",
      "execution_count": null,
      "metadata": {
        "id": "qPIIEzlNKKzu"
      },
      "outputs": [],
      "source": [
        "# stemming \n",
        "\n",
        "factory = StemmerFactory()\n",
        "stemmer = factory.create_stemmer()\n",
        "\n",
        "stem1 = stemmer.stem(stopdocs0)\n",
        "stem2 = stemmer.stem(stopdocs1)\n",
        "stem3 = stemmer.stem(stopdocs2)\n",
        "stem4 = stemmer.stem(stopdocs3)\n",
        "stem5 = stemmer.stem(stopdocs4)\n",
        "stem6 = stemmer.stem(stopdocs5)\n",
        "stem7 = stemmer.stem(stopdocs6)\n",
        "stem8 = stemmer.stem(stopdocs7)\n",
        "stem9 = stemmer.stem(stopdocs8)\n",
        "stem10 = stemmer.stem(stopdocs9)\n",
        "stem11 = stemmer.stem(stopdocs10)\n",
        "stem12 = stemmer.stem(stopdocs11)\n",
        "stem13 = stemmer.stem(stopdocs12)\n",
        "stem14 = stemmer.stem(stopdocs13)\n",
        "stem15 = stemmer.stem(stopdocs14)"
      ]
    },
    {
      "cell_type": "markdown",
      "metadata": {
        "id": "T3InaA7qKKzv"
      },
      "source": [
        "## e. Tokenisasi\n",
        "Tokenizing adalah tahap pemotongan string input berdasarkan tiap kata yang menyusunnya. Contoh dari tahap ini dapat dilihat pada gambar dibawah ini.Tokenisasi secara garis besar memecah sekumpulan karakter dalam suatu teks ke dalam satuan kata, bagaimana membedakan karakter-karakter tertentu yang dapat diperlakukan sebagai pemisah kata atau bukan."
      ]
    },
    {
      "cell_type": "code",
      "execution_count": null,
      "metadata": {
        "id": "DsdShfbCKKzw"
      },
      "outputs": [],
      "source": [
        "#tokenization\n",
        "train_set = [stem1,stem2,stem3,stem4,stem5,stem6,stem7,stem8,stem9,stem10,stem11,stem12,stem13,stem14,stem15]"
      ]
    },
    {
      "cell_type": "code",
      "execution_count": null,
      "metadata": {
        "id": "boeOliddKKzx"
      },
      "outputs": [],
      "source": [
        "count_vectorizer = CountVectorizer(tokenizer=tokenize)\n",
        "data = count_vectorizer.fit_transform(train_set).toarray()\n",
        "vocab = count_vectorizer.get_feature_names()"
      ]
    },
    {
      "cell_type": "markdown",
      "metadata": {
        "id": "x-ans3YtKKzx"
      },
      "source": [
        "## f. TF-IDF\n",
        "\n",
        "TF (Term Frequency) adalah frekuensi dari kemunculan sebuah term dalam dokumen yang bersangkutan. Semakin besar jumlah kemunculan suatu term (TF tinggi) dalam dokumen, semakin besar pula bobotnya atau akan memberikan nilai kesesuaian yang semakin besar.\n",
        "IDF (Inverse Document Frequency) merupakan sebuah perhitungan dari bagaimana term didistribusikan secara luas pada koleksi dokumen yang bersangkutan.\n",
        "IDF menunjukkan hubungan ketersediaan sebuah term dalam seluruh dokumen. Semakin sedikit jumlah dokumen yang mengandung term yang dimaksud, maka nilai IDF semakin besar."
      ]
    },
    {
      "cell_type": "code",
      "execution_count": null,
      "metadata": {
        "id": "CPXcLmWZKKzy",
        "outputId": "8ec2fa6a-1ac3-4d01-80cb-9025635d6486"
      },
      "outputs": [
        {
          "name": "stdout",
          "output_type": "stream",
          "text": [
            "Jumlah Term of Frequency\n",
            "[[0 1 0 ... 2 1 0]\n",
            " [0 0 0 ... 2 0 0]\n",
            " [0 0 0 ... 0 0 0]\n",
            " ...\n",
            " [0 0 0 ... 0 0 0]\n",
            " [0 1 0 ... 0 0 0]\n",
            " [0 0 0 ... 0 0 0]]\n"
          ]
        }
      ],
      "source": [
        "print (\"Jumlah Term of Frequency\")\n",
        "print(data)"
      ]
    },
    {
      "cell_type": "code",
      "execution_count": null,
      "metadata": {
        "id": "idbZTQqvKKzz",
        "outputId": "823ae9ee-8c20-42fd-8256-daa892f7f850"
      },
      "outputs": [
        {
          "name": "stdout",
          "output_type": "stream",
          "text": [
            "Vektor Features\n",
            "['abar', 'absen', 'acara', 'ada', 'adik', 'afp', 'afpkabar', 'afrika', 'agam', 'agen', 'agency', 'agitasi', 'ahli', 'ajar', 'akan', 'akhir', 'akibat', 'aktivitas', 'aku', 'alami', 'alat', 'alih', 'aman', 'ambil', 'amerika', 'an', 'anak', 'anakanak', 'analis', 'analisis', 'aneh', 'anggap', 'anggota', 'angkat', 'angkut', 'anonim', 'antara', 'ap', 'apa', 'apaapa', 'apabila', 'api', 'april', 'aprildalam', 'aprilmengutip', 'aprilsehari', 'area', 'arena', 'arti', 'as', 'asa', 'asal', 'asasi', 'aset', 'asli', 'associated', 'atas', 'atau', 'awal', 'awas', 'awat', 'ayah', 'badan', 'bagai', 'bagi', 'bahan', 'bahas', 'bahaya', 'bahkan', 'baik', 'baikbaik', 'bakal', 'bakar', 'balbina', 'balonbalon', 'ban', 'bandara', 'bangun', 'banyak', 'bareng', 'baru', 'barubaru', 'bas', 'basket', 'batal', 'batas', 'bbc', 'beban', 'beberapa', 'bedah', 'bedahdugaan', 'belot', 'belum', 'benar', 'bendera', 'bentuk', 'berapa', 'berat', 'beri', 'berita', 'berpindahpindah', 'berturutturut', 'berulangulang', 'berwarnawarni', 'besar', 'biar', 'biasa', 'bicara', 'bijak', 'bincang', 'bisa', 'buah', 'buat', 'buka', 'bukan', 'bukti', 'bulan', 'bunuh', 'bursa', 'buruh', 'butuh', 'buyar', 'camp', 'cara', 'catat', 'cegah', 'center', 'central', 'china', 'choe', 'chosun', 'chungin', 'citra', 'cnn', 'coba', 'contoh', 'corona', 'covid', 'cukup', 'cuma', 'curiga', 'curtis', 'cyril', 'dadak', 'daerah', 'daftar', 'dagang', 'dahulu', 'daily', 'dalam', 'dan', 'dana', 'dapat', 'dari', 'daring', 'dasar', 'datang', 'david', 'dekade', 'dekat', 'delegasi', 'dengan', 'dengar', 'dennis', 'depan', 'departemen', 'deret', 'dermaga', 'desak', 'desember', 'detail', 'deteksi', 'di', 'dia', 'dibekukandilansir', 'digadanggadang', 'dihadirinyasambutan', 'diktator', 'dinasti', 'dingin', 'dinilaiinformasi', 'diplomasi', 'direktur', 'diri', 'dokumendokumen', 'donald', 'dua', 'duga', 'dulu', 'dunia', 'easley', 'edar', 'edisi', 'ekonomi', 'elite', 'emosi', 'empat', 'enam', 'enggan', 'entah', 'erat', 'esok', 'evn', 'ewha', 'faktor', 'fasilitas', 'fenomena', 'figur', 'fokus', 'fosfat', 'foto', 'fotofoto', 'fotofotonya', 'fyodor', 'gabunganpenggabungan', 'gambar', 'ganti', 'garis', 'gedung', 'gelang', 'gelar', 'gembira', 'gemuk', 'georgetown', 'gera', 'gerak', 'giat', 'global', 'guna', 'gunting', 'habis', 'hadap', 'hadir', 'hae', 'hak', 'hal', 'halaman', 'hampir', 'hangat', 'hari', 'hasil', 'headline', 'henti', 'hibur', 'hidup', 'hilang', 'hingga', 'hitam', 'hubung', 'hura', 'hut', 'hwang', 'hyangsan', 'ia', 'ibu', 'ikut', 'il', 'ilbo', 'ilsun', 'ilsung', 'ilsungkim', 'ilsunglaporan', 'independen', 'independenini', 'indikasi', 'indonesia', 'industri', 'infeksi', 'infodemik', 'informasi', 'ingat', 'ini', 'inidia', 'intelijen', 'internasional', 'ir', 'istirahat', 'isu', 'itu', 'jabat', 'jadi', 'jaein', 'jaket', 'jalan', 'jalur', 'jam', 'jamu', 'janggal', 'jantung', 'januari', 'jaring', 'jatuh', 'jauh', 'jawab', 'jelas', 'jepang', 'jet', 'jika', 'jinak', 'jong', 'jongil', 'jongilpadahal', 'jongun', 'jongunpada', 'juga', 'jumat', 'jumlah', 'jurnalis', 'juru', 'justru', 'kabar', 'kabupaten', 'kait', 'kaji', 'kakak', 'kakek', 'kaki', 'kalau', 'kalender', 'kali', 'kalma', 'kalmameski', 'kamera', 'kami', 'kamis', 'kamp', 'kandidat', 'kandung', 'kang', 'kantor', 'kapal', 'kapan', 'kapasitas', 'kardiovaskular', 'kardiovaskularkorea', 'kardiovaskulartindakan', 'karena', 'kasih', 'kata', 'kawasan', 'kcna', 'ke', 'kecil', 'kecuali', 'kejut', 'kelelahansegera', 'keliling', 'keliru', 'kelompok', 'keluar', 'keluarga', 'kemarin', 'kemarinrekaman', 'kembali', 'kembang', 'kemudian', 'kena', 'kenal', 'kenan', 'kenang', 'kendati', 'kenegaraankapal', 'kepada', 'kerap', 'keras', 'kereta', 'kerja', 'kesehatankim', 'ketat', 'ketidakhadiran', 'ketidakhadirannya', 'ketidakstabilan', 'ketika', 'khawatir', 'khusus', 'ki', 'kian', 'kibar', 'kim', 'kimcitra', 'kimdaerah', 'kimia', 'kimpada', 'kimsebelumnya', 'kini', 'kira', 'kirim', 'kista', 'klaim', 'klinik', 'komando', 'komentar', 'kompetisi', 'kompleks', 'komplikasi', 'kondisi', 'kondisinyapenasihat', 'konfirmasi', 'kontribusi', 'konversi', 'kookmin', 'koordinasi', 'koran', 'korea', 'korean', 'koreksi', 'koresponden', 'korsel', 'korut', 'korutchosun', 'korutkim', 'korutpendiri', 'korutseperti', 'kota', 'krisis', 'kritis', 'kritislaporan', 'kuasa', 'kuat', 'kuda', 'kudamenurut', 'kunci', 'kurang', 'kutip', 'kyungwha', 'kyungwhakang', 'labuh', 'lahir', 'lain', 'laku', 'lalu', 'lalucnn', 'laludalam', 'lalukemudian', 'lalukim', 'lalumenteri', 'lalunamun', 'lalusementara', 'laluspekulasi', 'lama', 'landas', 'langgar', 'langsung', 'lanjut', 'lansir', 'lantas', 'lapang', 'lapor', 'larang', 'layan', 'lebih', 'ledak', 'leiferic', 'lelah', 'lembaga', 'lepas', 'lewat', 'libur', 'lihat', 'lindung', 'lintas', 'liput', 'logis', 'lokasi', 'luar', 'luas', 'luka', 'luncur', 'maaf', 'main', 'makan', 'makin', 'malam', 'mampu', 'mana', 'mandiri', 'manipulasi', 'manusia', 'masa', 'masalah', 'masih', 'masker', 'massa', 'masuk', 'masyarakat', 'mata', 'matamata', 'mati', 'media', 'medical', 'medis', 'mekanisme', 'meleset', 'melvin', 'memang', 'mendiang', 'menep', 'meni', 'menteri', 'merah', 'merdeka', 'mereka', 'meski', 'mesti', 'meter', 'mewah', 'milik', 'minggu', 'minta', 'miring', 'misterikabar', 'misterius', 'mitologi', 'modern', 'mohon', 'moles', 'mongolia', 'mongoliaayah', 'moon', 'moonkabar', 'muda', 'mudah', 'muka', 'mula', 'mulai', 'munchon', 'muncul', 'mungkin', 'musim', 'musuh', 'namun', 'nasihat', 'negara', 'negeri', 'news', 'nilai', 'nk', 'normal', 'north', 'northdalam', 'november', 'nyata', 'obesitas', 'oleh', 'olimpiade', 'online', 'operasi', 'orang', 'orangempat', 'orangorang', 'otentik', 'outlet', 'pabrik', 'pacu', 'pada', 'padahal', 'paektu', 'paham', 'pakai', 'paling', 'palsu', 'palsukim', 'pampang', 'panas', 'pandang', 'pandemi', 'panjang', 'pantai', 'pantau', 'papan', 'papar', 'para', 'parah', 'pariwisata', 'parkir', 'parlemen', 'partai', 'pasca', 'pasien', 'pasti', 'pegang', 'pegawai', 'pekan', 'pemberitahuan', 'pendek', 'pengaruh', 'penting', 'penuh', 'peran', 'perancis', 'percaya', 'perdana', 'perempuan', 'pergi', 'perhati', 'periksa', 'perintah', 'peristiwa', 'perlu', 'pernah', 'pertama', 'pes', 'pesan', 'pesiar', 'pesisir', 'petik', 'petinggi', 'picu', 'pihak', 'pikir', 'pilih', 'pimpin', 'pita', 'politbiro', 'politbiru', 'politik', 'pos', 'posisi', 'posisinyaakan', 'positif', 'potong', 'prediksi', 'presiden', 'press', 'pressalihalih', 'pro', 'produksi', 'profesor', 'program', 'proklamator', 'pronk', 'propaganda', 'properti', 'prosedur', 'proses', 'provinsi', 'proyek', 'puas', 'publik', 'publiktercatat', 'puji', 'pulau', 'pulaupulau', 'pulautekateki', 'pulih', 'punya', 'pupuk', 'pusat', 'putar', 'putih', 'putra', 'pyongan', 'pyongyang', 'pyongyangsetelah', 'rabu', 'raib', 'rajin', 'rakyat', 'ramaphosa', 'ramaphosadalam', 'ranah', 'rang', 'rangkai', 'rapat', 'rasa', 'rawat', 'raya', 'redam', 'rekreasi', 'rencana', 'rentan', 'repot', 'republik', 'resmi', 'resor', 'respons', 'rezim', 'riah', 'ribu', 'rilis', 'rodmankim', 'rodong', 'rokok', 'rombong', 'rudal', 'rujuk', 'rumah', 'rumor', 'rupa', 'rutin', 'ryong', 'saat', 'sabtu', 'sahabat', 'sahamkim', 'saing', 'saja', 'sajasebagai', 'sajasebelum', 'saking', 'sakit', 'saksi', 'salah', 'sama', 'sambut', 'sampai', 'sana', 'sang', 'sangat', 'sangkal', 'sanksi', 'santer', 'satelit', 'satu', 'saudara', 'saya', 'sebar', 'seberang', 'sebut', 'sedang', 'sedap', 'sederhana', 'segera', 'sehat', 'sejak', 'sekali', 'sekaligus', 'sekalipun', 'sekarang', 'sekat', 'sekretaris', 'sekutunyaini', 'selain', 'selalu', 'selamat', 'selasa', 'selasela', 'selatan', 'selatansurat', 'seluruh', 'sembarang', 'sembilan', 'sembuh', 'semenanjung', 'sementara', 'sempat', 'semua', 'senang', 'sendiri', 'senin', 'senior', 'senjata', 'seoul', 'seouldari', 'seperti', 'seremoni', 'serikat', 'seromoni', 'serta', 'setempatmenurut', 'siap', 'siapa', 'siar', 'signifikan', 'sikap', 'silamsaat', 'simpang', 'sinmun', 'sisi', 'sistem', 'situasi', 'situs', 'siur', 'soal', 'soekarno', 'songdowon', 'sontak', 'sorak', 'sorot', 'sosial', 'spekulasi', 'spesial', 'stasiun', 'status', 'straits', 'suara', 'suatu', 'sulit', 'sumber', 'sumbersumber', 'sunchon', 'sung', 'surat', 'tabrak', 'tae', 'tahan', 'tahu', 'tahun', 'tajuk', 'tak', 'takhta', 'tambah', 'tampak', 'tampik', 'tampil', 'tancap', 'tanda', 'tandatanda', 'tangan', 'tanggal', 'tangkap', 'tani', 'tank', 'tanya', 'tegas', 'tekan', 'telaah', 'telah', 'televisi', 'teliti', 'tembak', 'tembus', 'tempat', 'tempur', 'temu', 'tengah', 'tentang', 'tentara', 'tentu', 'tepat', 'terakhirmenurut', 'terbang', 'terbit', 'terima', 'terlalu', 'terpa', 'tersebutbukan', 'tersebutdesasdesus', 'tersebutmenteri', 'tersebutseperti', 'tertitskiy', 'terus', 'tetangga', 'tetap', 'tewas', 'the', 'think', 'tiada', 'tiap', 'tidak', 'tim', 'timbang', 'timbul', 'timeskim', 'timur', 'tindak', 'tinggal', 'tinggi', 'tingkat', 'tinjau', 'tokoh', 'tokyo', 'tolak', 'tongkat', 'tongkatbeberapa', 'totaliter', 'transaksi', 'trump', 'tugas', 'tuju', 'tujuh', 'tulis', 'tumor', 'tumpang', 'tunggang', 'tunjuk', 'turun', 'turut', 'tutup', 'tutur', 'tv', 'ubah', 'ucap', 'udara', 'udaradaily', 'udaranamun', 'ujar', 'uji', 'ukur', 'ulang', 'un', 'unit', 'universitas', 'unjung', 'unkim', 'untun', 'upacara', 'upaya', 'urus', 'urut', 'usai', 'usia', 'utama', 'utara', 'utaradaily', 'utarakim', 'utus', 'verifikasi', 'video', 'vila', 'villa', 'virus', 'visitingprofesor', 'wabah', 'wafatsurat', 'wajahnamun', 'wakil', 'waktu', 'warga', 'waris', 'washington', 'wawancara', 'web', 'wilayah', 'wisata', 'wisma', 'wonsan', 'wonsankalma', 'ya', 'yakin', 'yakni', 'yang', 'yeochul', 'yeonchul', 'yeonchulkim', 'yeonchulmenteri', 'yo', 'yojong', 'yojongsurat', 'yonhap']\n"
          ]
        }
      ],
      "source": [
        "print (\"Vektor Features\")\n",
        "print(vocab)"
      ]
    },
    {
      "cell_type": "code",
      "execution_count": null,
      "metadata": {
        "id": "Coxuv6VMKKz0"
      },
      "outputs": [],
      "source": [
        "tfidf = TfidfVectorizer().fit_transform(train_set)"
      ]
    },
    {
      "cell_type": "code",
      "execution_count": null,
      "metadata": {
        "id": "bhW93OmuKKz1",
        "outputId": "c52b4062-d059-4d86-9884-817405d401f1"
      },
      "outputs": [
        {
          "name": "stdout",
          "output_type": "stream",
          "text": [
            "Jumlah TF - IDF\n",
            "  (0, 117)\t0.05504177486993678\n",
            "  (0, 278)\t0.026505957885826974\n",
            "  (0, 187)\t0.06970429863480007\n",
            "  (0, 128)\t0.049120057809454935\n",
            "  (0, 159)\t0.04077386637788188\n",
            "  (0, 365)\t0.03242767494630882\n",
            "  (0, 782)\t0.034852149317400036\n",
            "  (0, 111)\t0.024858339514762205\n",
            "  (0, 172)\t0.08905363442116096\n",
            "  (0, 451)\t0.11008354973987355\n",
            "  (0, 765)\t0.05504177486993678\n",
            "  (0, 280)\t0.06051781743705116\n",
            "  (0, 235)\t0.034852149317400036\n",
            "  (0, 300)\t0.08154773275576375\n",
            "  (0, 517)\t0.06338796630150982\n",
            "  (0, 683)\t0.05504177486993678\n",
            "  (0, 704)\t0.03760079166092692\n",
            "  (0, 652)\t0.034852149317400036\n",
            "  (0, 76)\t0.05504177486993678\n",
            "  (0, 143)\t0.05504177486993678\n",
            "  (0, 774)\t0.05504177486993678\n",
            "  (0, 275)\t0.05504177486993678\n",
            "  (0, 265)\t0.05504177486993678\n",
            "  (0, 672)\t0.05504177486993678\n",
            "  (0, 629)\t0.05504177486993678\n",
            "  :\t:\n",
            "  (14, 723)\t0.11988414987410863\n",
            "  (14, 430)\t0.02397682997482173\n",
            "  (14, 42)\t0.1350328099502045\n",
            "  (14, 724)\t0.08188071389378\n",
            "  (14, 541)\t0.025566021623079357\n",
            "  (14, 501)\t0.03932797124192492\n",
            "  (14, 340)\t0.03626741794387965\n",
            "  (14, 99)\t0.05458714259585334\n",
            "  (14, 692)\t0.03361624608691782\n",
            "  (14, 718)\t0.04795365994964346\n",
            "  (14, 429)\t0.02918588786418701\n",
            "  (14, 832)\t0.08589567496606516\n",
            "  (14, 310)\t0.02113566340034854\n",
            "  (14, 465)\t0.04737819570576339\n",
            "  (14, 673)\t0.03932797124192492\n",
            "  (14, 302)\t0.02397682997482173\n",
            "  (14, 378)\t0.25810585408493936\n",
            "  (14, 903)\t0.1389800752765058\n",
            "  (14, 403)\t0.1786886682126503\n",
            "  (14, 611)\t0.05956288940421677\n",
            "  (14, 395)\t0.04501093665006817\n",
            "  (14, 356)\t0.03626741794387965\n",
            "  (14, 239)\t0.16376142778756\n",
            "  (14, 526)\t0.022505468325034084\n",
            "  (14, 817)\t0.03127774677808646\n"
          ]
        }
      ],
      "source": [
        "print (\"Jumlah TF - IDF\")\n",
        "print (tfidf)"
      ]
    },
    {
      "cell_type": "markdown",
      "metadata": {
        "id": "fdVyg5XtKKz1"
      },
      "source": [
        "# B.Perbandingan\n",
        "\n",
        "## **Menghitung Jarak"
      ]
    },
    {
      "cell_type": "markdown",
      "metadata": {
        "id": "b4pyvomPKKz1"
      },
      "source": [
        "## a. Manhattan Similarity\n",
        "Manhattan similarity digunakan untuk menghitung perbedaan mutlak antara koordinat sepasang objek "
      ]
    },
    {
      "cell_type": "code",
      "execution_count": null,
      "metadata": {
        "id": "ckGJisqIKKz2",
        "outputId": "409933f8-7f08-4362-cac7-e39c685a42ec"
      },
      "outputs": [
        {
          "name": "stdout",
          "output_type": "stream",
          "text": [
            "doc1 dan doc2 punya kemiripan sebesar: 1526.58%\n",
            "doc1 dan doc3 punya kemiripan sebesar: 1091.34%\n",
            "doc1 dan doc4 punya kemiripan sebesar: 1790.55%\n",
            "doc1 dan doc5 punya kemiripan sebesar: 1889.10%\n",
            "doc1 dan doc6 punya kemiripan sebesar: 1757.18%\n",
            "doc1 dan doc7 punya kemiripan sebesar: 1816.03%\n",
            "doc1 dan doc8 punya kemiripan sebesar: 1764.84%\n",
            "doc1 dan doc9 punya kemiripan sebesar: 1781.93%\n",
            "doc1 dan doc10 punya kemiripan sebesar: 1909.61%\n",
            "doc1 dan doc11 punya kemiripan sebesar: 1959.69%\n",
            "doc1 dan doc12 punya kemiripan sebesar: 1893.96%\n",
            "doc1 dan doc13 punya kemiripan sebesar: 1559.76%\n",
            "doc1 dan doc14 punya kemiripan sebesar: 2022.57%\n"
          ]
        }
      ],
      "source": [
        "# bandingkan doc1 dan doc2\n",
        "from sklearn.metrics.pairwise import manhattan_distances\n",
        "doc1_vect = tfidf[0].reshape(1, -1) # doc1\n",
        "doc2_vect = tfidf[1].reshape(1, -1) # doc2\n",
        "\n",
        "# hitung jarak\n",
        "distance = manhattan_distances(doc1_vect, doc2_vect)\n",
        "print(\"doc1 dan doc2 punya kemiripan sebesar: {:.2%}\".format(distance.item(0)))\n",
        "\n",
        "# bandingkan doc1 dan doc3\n",
        "from sklearn.metrics.pairwise import manhattan_distances\n",
        "doc1_vect = tfidf[0].reshape(1, -1) # doc1\n",
        "doc3_vect = tfidf[2].reshape(1, -1) # doc3\n",
        "\n",
        "# hitung jarak\n",
        "distance = manhattan_distances(doc1_vect, doc3_vect)\n",
        "print(\"doc1 dan doc3 punya kemiripan sebesar: {:.2%}\".format(distance.item(0)))\n",
        "\n",
        "# bandingkan doc1 dan doc4\n",
        "from sklearn.metrics.pairwise import manhattan_distances\n",
        "doc1_vect = tfidf[0].reshape(1, -1) # doc1\n",
        "doc4_vect = tfidf[3].reshape(1, -1) # doc4\n",
        "\n",
        "# hitung jarak\n",
        "distance = manhattan_distances(doc1_vect, doc4_vect)\n",
        "print(\"doc1 dan doc4 punya kemiripan sebesar: {:.2%}\".format(distance.item(0)))\n",
        "\n",
        "# bandingkan doc1 dan doc5\n",
        "from sklearn.metrics.pairwise import manhattan_distances\n",
        "doc1_vect = tfidf[0].reshape(1, -1) # doc1\n",
        "doc5_vect = tfidf[5].reshape(1, -1) # doc5\n",
        "\n",
        "# hitung jarak\n",
        "distance = manhattan_distances(doc1_vect, doc5_vect)\n",
        "print(\"doc1 dan doc5 punya kemiripan sebesar: {:.2%}\".format(distance.item(0)))\n",
        "\n",
        "# bandingkan doc1 dan doc6\n",
        "from sklearn.metrics.pairwise import manhattan_distances\n",
        "doc1_vect = tfidf[0].reshape(1, -1) # doc1\n",
        "doc6_vect = tfidf[6].reshape(1, -1) # doc6\n",
        "\n",
        "# hitung jarak\n",
        "distance = manhattan_distances(doc1_vect, doc6_vect)\n",
        "print(\"doc1 dan doc6 punya kemiripan sebesar: {:.2%}\".format(distance.item(0)))\n",
        "\n",
        "# bandingkan doc1 dan doc7\n",
        "from sklearn.metrics.pairwise import manhattan_distances\n",
        "doc1_vect = tfidf[0].reshape(1, -1) # doc1\n",
        "doc7_vect = tfidf[7].reshape(1, -1) # doc7\n",
        "\n",
        "# hitung jarak\n",
        "distance = manhattan_distances(doc1_vect, doc7_vect)\n",
        "print(\"doc1 dan doc7 punya kemiripan sebesar: {:.2%}\".format(distance.item(0)))\n",
        "\n",
        "# bandingkan doc1 dan doc8\n",
        "from sklearn.metrics.pairwise import manhattan_distances\n",
        "doc1_vect = tfidf[0].reshape(1, -1) # doc1\n",
        "doc8_vect = tfidf[8].reshape(1, -1) # doc8\n",
        "\n",
        "# hitung jarak\n",
        "distance = manhattan_distances(doc1_vect, doc8_vect)\n",
        "print(\"doc1 dan doc8 punya kemiripan sebesar: {:.2%}\".format(distance.item(0)))\n",
        "\n",
        "# bandingkan doc1 dan doc9\n",
        "from sklearn.metrics.pairwise import manhattan_distances\n",
        "doc1_vect = tfidf[0].reshape(1, -1) # doc1\n",
        "doc9_vect = tfidf[9].reshape(1, -1) # doc9\n",
        "\n",
        "# hitung jarak\n",
        "distance = manhattan_distances(doc1_vect, doc9_vect)\n",
        "print(\"doc1 dan doc9 punya kemiripan sebesar: {:.2%}\".format(distance.item(0)))\n",
        "\n",
        "# bandingkan doc1 dan doc10\n",
        "from sklearn.metrics.pairwise import manhattan_distances\n",
        "doc1_vect = tfidf[0].reshape(1, -1) # doc1\n",
        "doc10_vect = tfidf[10].reshape(1, -1) # doc10\n",
        "\n",
        "# hitung jarak\n",
        "distance = manhattan_distances(doc1_vect, doc10_vect)\n",
        "print(\"doc1 dan doc10 punya kemiripan sebesar: {:.2%}\".format(distance.item(0)))\n",
        "\n",
        "# bandingkan doc1 dan doc11\n",
        "from sklearn.metrics.pairwise import manhattan_distances\n",
        "doc1_vect = tfidf[0].reshape(1, -1) # doc1\n",
        "doc11_vect = tfidf[11].reshape(1, -1) # doc11\n",
        "\n",
        "# hitung jarak\n",
        "distance = manhattan_distances(doc1_vect, doc11_vect)\n",
        "print(\"doc1 dan doc11 punya kemiripan sebesar: {:.2%}\".format(distance.item(0)))\n",
        "\n",
        "# bandingkan doc1 dan doc12\n",
        "from sklearn.metrics.pairwise import manhattan_distances\n",
        "doc1_vect = tfidf[0].reshape(1, -1) # doc1\n",
        "doc12_vect = tfidf[12].reshape(1, -1) # doc12\n",
        "\n",
        "# hitung jarak\n",
        "distance = manhattan_distances(doc1_vect, doc12_vect)\n",
        "print(\"doc1 dan doc12 punya kemiripan sebesar: {:.2%}\".format(distance.item(0)))\n",
        "\n",
        "# bandingkan doc1 dan doc13\n",
        "from sklearn.metrics.pairwise import manhattan_distances\n",
        "doc1_vect = tfidf[0].reshape(1, -1) # doc1\n",
        "doc13_vect = tfidf[13].reshape(1, -1) # doc13\n",
        "\n",
        "# hitung jarak\n",
        "distance = manhattan_distances(doc1_vect, doc13_vect)\n",
        "print(\"doc1 dan doc13 punya kemiripan sebesar: {:.2%}\".format(distance.item(0)))\n",
        "\n",
        "# bandingkan doc1 dan doc14\n",
        "from sklearn.metrics.pairwise import manhattan_distances\n",
        "doc1_vect = tfidf[0].reshape(1, -1) # doc1\n",
        "doc14_vect = tfidf[14].reshape(1, -1) # doc14\n",
        "\n",
        "# hitung jarak\n",
        "distance = manhattan_distances(doc1_vect, doc14_vect)\n",
        "print(\"doc1 dan doc14 punya kemiripan sebesar: {:.2%}\".format(distance.item(0)))\n"
      ]
    },
    {
      "cell_type": "code",
      "execution_count": null,
      "metadata": {
        "id": "vNZFOPaCKKz3"
      },
      "outputs": [],
      "source": [
        "from sklearn.metrics.pairwise import manhattan_distances\n",
        "doc0_vect = tfidf[0].reshape(1, -1) # document1\n",
        "doc1_vect = tfidf[1].reshape(1, -1) # document2\n",
        "doc2_vect = tfidf[2].reshape(1, -1) # document3\n",
        "doc3_vect = tfidf[3].reshape(1, -1) # document4\n",
        "doc4_vect = tfidf[4].reshape(1, -1) # document5\n",
        "doc5_vect = tfidf[5].reshape(1, -1) # document6\n",
        "doc6_vect = tfidf[6].reshape(1, -1) # document7\n",
        "doc7_vect = tfidf[7].reshape(1, -1) # document8\n",
        "doc8_vect = tfidf[8].reshape(1, -1) # document9\n",
        "doc9_vect = tfidf[9].reshape(1, -1) # document10\n",
        "doc10_vect = tfidf[10].reshape(1, -1) # document11\n",
        "doc11_vect = tfidf[11].reshape(1, -1) # document12\n",
        "doc12_vect = tfidf[12].reshape(1, -1) # document13\n",
        "doc13_vect = tfidf[13].reshape(1, -1) # document14\n",
        "doc14_vect = tfidf[14].reshape(1, -1) # document15"
      ]
    },
    {
      "cell_type": "code",
      "execution_count": null,
      "metadata": {
        "id": "6J69Nf-NKKz4",
        "outputId": "a7edfcde-b5c1-4666-c48e-bb1df523d8b9"
      },
      "outputs": [
        {
          "name": "stdout",
          "output_type": "stream",
          "text": [
            "doc1 dan doc2 punya kemiripan sebesar: 1526.58%\n",
            "doc1 dan doc3 punya kemiripan sebesar: 1091.34%\n",
            "doc1 dan doc4 punya kemiripan sebesar: 1790.55%\n",
            "doc1 dan doc5 punya kemiripan sebesar: 1741.21%\n",
            "doc1 dan doc6 punya kemiripan sebesar: 1889.10%\n",
            "doc1 dan doc7 punya kemiripan sebesar: 1757.18%\n",
            "doc1 dan doc8 punya kemiripan sebesar: 1816.03%\n",
            "doc1 dan doc9 punya kemiripan sebesar: 1764.84%\n",
            "doc1 dan doc10 punya kemiripan sebesar: 1781.93%\n",
            "doc1 dan doc11 punya kemiripan sebesar: 1909.61%\n",
            "doc1 dan doc12 punya kemiripan sebesar: 1959.69%\n",
            "doc1 dan doc13 punya kemiripan sebesar: 1893.96%\n",
            "doc1 dan doc14 punya kemiripan sebesar: 2022.57%\n"
          ]
        }
      ],
      "source": [
        "distance01 = manhattan_distances(doc0_vect, doc1_vect)\n",
        "distance02 = manhattan_distances(doc0_vect, doc2_vect)\n",
        "distance03 = manhattan_distances(doc0_vect, doc3_vect)\n",
        "distance04 = manhattan_distances(doc0_vect, doc4_vect)\n",
        "distance05 = manhattan_distances(doc0_vect, doc5_vect)\n",
        "distance06 = manhattan_distances(doc0_vect, doc6_vect)\n",
        "distance07 = manhattan_distances(doc0_vect, doc7_vect)\n",
        "distance08 = manhattan_distances(doc0_vect, doc8_vect)\n",
        "distance09 = manhattan_distances(doc0_vect, doc9_vect)\n",
        "distance010 = manhattan_distances(doc0_vect, doc10_vect)\n",
        "distance011 = manhattan_distances(doc0_vect, doc11_vect)\n",
        "distance012 = manhattan_distances(doc0_vect, doc12_vect)\n",
        "distance013 = manhattan_distances(doc0_vect, doc13_vect)\n",
        "distance014 = manhattan_distances(doc0_vect, doc14_vect)\n",
        "\n",
        "\n",
        "print(\"doc1 dan doc2 punya kemiripan sebesar: {:.2%}\".format(distance01.item(0)))\n",
        "print(\"doc1 dan doc3 punya kemiripan sebesar: {:.2%}\".format(distance02.item(0)))\n",
        "print(\"doc1 dan doc4 punya kemiripan sebesar: {:.2%}\".format(distance03.item(0)))\n",
        "print(\"doc1 dan doc5 punya kemiripan sebesar: {:.2%}\".format(distance04.item(0)))\n",
        "print(\"doc1 dan doc6 punya kemiripan sebesar: {:.2%}\".format(distance05.item(0)))\n",
        "print(\"doc1 dan doc7 punya kemiripan sebesar: {:.2%}\".format(distance06.item(0)))\n",
        "print(\"doc1 dan doc8 punya kemiripan sebesar: {:.2%}\".format(distance07.item(0)))\n",
        "print(\"doc1 dan doc9 punya kemiripan sebesar: {:.2%}\".format(distance08.item(0)))\n",
        "print(\"doc1 dan doc10 punya kemiripan sebesar: {:.2%}\".format(distance09.item(0)))\n",
        "print(\"doc1 dan doc11 punya kemiripan sebesar: {:.2%}\".format(distance010.item(0)))\n",
        "print(\"doc1 dan doc12 punya kemiripan sebesar: {:.2%}\".format(distance011.item(0)))\n",
        "print(\"doc1 dan doc13 punya kemiripan sebesar: {:.2%}\".format(distance012.item(0)))\n",
        "print(\"doc1 dan doc14 punya kemiripan sebesar: {:.2%}\".format(distance014.item(0)))\n"
      ]
    },
    {
      "cell_type": "markdown",
      "metadata": {
        "id": "GTqK0uwyKKz4"
      },
      "source": [
        "## Perbandingan doc2 dan doc lainnya"
      ]
    },
    {
      "cell_type": "code",
      "execution_count": null,
      "metadata": {
        "id": "NGrgJgO0KKz5",
        "outputId": "f6969269-09dc-4e3c-ee16-0c46c92de715"
      },
      "outputs": [
        {
          "name": "stdout",
          "output_type": "stream",
          "text": [
            "doc2 dan doc3 punya kemiripan sebesar: 1796.27%\n",
            "doc2 dan doc4 punya kemiripan sebesar: 1674.44%\n",
            "doc2 dan doc5 punya kemiripan sebesar: 1572.71%\n",
            "doc2 dan doc6 punya kemiripan sebesar: 1718.29%\n",
            "doc2 dan doc7 punya kemiripan sebesar: 1574.98%\n",
            "doc2 dan doc8 punya kemiripan sebesar: 1656.02%\n",
            "doc2 dan doc9 punya kemiripan sebesar: 1539.31%\n",
            "doc2 dan doc10 punya kemiripan sebesar: 1652.14%\n",
            "doc2 dan doc11 punya kemiripan sebesar: 1698.28%\n",
            "doc2 dan doc12 punya kemiripan sebesar: 1793.15%\n",
            "doc2 dan doc13 punya kemiripan sebesar: 1738.57%\n",
            "doc2 dan doc14 punya kemiripan sebesar: 1570.43%\n",
            "doc2 dan doc15 punya kemiripan sebesar: 1829.51%\n"
          ]
        }
      ],
      "source": [
        "distance12 = manhattan_distances(doc1_vect, doc2_vect)\n",
        "distance13 = manhattan_distances(doc1_vect, doc3_vect)\n",
        "distance14 = manhattan_distances(doc1_vect, doc4_vect)\n",
        "distance15 = manhattan_distances(doc1_vect, doc5_vect)\n",
        "distance16 = manhattan_distances(doc1_vect, doc6_vect)\n",
        "distance17 = manhattan_distances(doc1_vect, doc7_vect)\n",
        "distance18 = manhattan_distances(doc1_vect, doc8_vect)\n",
        "distance19 = manhattan_distances(doc1_vect, doc9_vect)\n",
        "distance110 = manhattan_distances(doc1_vect, doc10_vect)\n",
        "distance111 = manhattan_distances(doc1_vect, doc11_vect)\n",
        "distance112 = manhattan_distances(doc1_vect, doc12_vect)\n",
        "distance113 = manhattan_distances(doc1_vect, doc13_vect)\n",
        "distance114 = manhattan_distances(doc1_vect, doc14_vect)\n",
        "\n",
        "\n",
        "print(\"doc2 dan doc3 punya kemiripan sebesar: {:.2%}\".format(distance12.item(0)))\n",
        "print(\"doc2 dan doc4 punya kemiripan sebesar: {:.2%}\".format(distance13.item(0)))\n",
        "print(\"doc2 dan doc5 punya kemiripan sebesar: {:.2%}\".format(distance14.item(0)))\n",
        "print(\"doc2 dan doc6 punya kemiripan sebesar: {:.2%}\".format(distance15.item(0)))\n",
        "print(\"doc2 dan doc7 punya kemiripan sebesar: {:.2%}\".format(distance16.item(0)))\n",
        "print(\"doc2 dan doc8 punya kemiripan sebesar: {:.2%}\".format(distance17.item(0)))\n",
        "print(\"doc2 dan doc9 punya kemiripan sebesar: {:.2%}\".format(distance18.item(0)))\n",
        "print(\"doc2 dan doc10 punya kemiripan sebesar: {:.2%}\".format(distance19.item(0)))\n",
        "print(\"doc2 dan doc11 punya kemiripan sebesar: {:.2%}\".format(distance110.item(0)))\n",
        "print(\"doc2 dan doc12 punya kemiripan sebesar: {:.2%}\".format(distance111.item(0)))\n",
        "print(\"doc2 dan doc13 punya kemiripan sebesar: {:.2%}\".format(distance112.item(0)))\n",
        "print(\"doc2 dan doc14 punya kemiripan sebesar: {:.2%}\".format(distance113.item(0)))\n",
        "print(\"doc2 dan doc15 punya kemiripan sebesar: {:.2%}\".format(distance114.item(0)))"
      ]
    },
    {
      "cell_type": "markdown",
      "metadata": {
        "id": "YBjyH0ThKKz6"
      },
      "source": [
        "## Perbandingan doc3 dan doc lainnya"
      ]
    },
    {
      "cell_type": "code",
      "execution_count": null,
      "metadata": {
        "id": "fraPEAHgKKz7",
        "outputId": "47aeacf2-0129-4eab-8c61-3c8f105e1df7"
      },
      "outputs": [
        {
          "name": "stdout",
          "output_type": "stream",
          "text": [
            "doc3 dan doc4 punya kemiripan sebesar: 1795.57%\n",
            "doc3 dan doc5 punya kemiripan sebesar: 1847.09%\n",
            "doc3 dan doc6 punya kemiripan sebesar: 1901.64%\n",
            "doc3 dan doc7 punya kemiripan sebesar: 1842.31%\n",
            "doc3 dan doc8 punya kemiripan sebesar: 1889.19%\n",
            "doc3 dan doc9 punya kemiripan sebesar: 1843.82%\n",
            "doc3 dan doc10 punya kemiripan sebesar: 1852.05%\n",
            "doc3 dan doc11 punya kemiripan sebesar: 1960.55%\n",
            "doc3 dan doc12 punya kemiripan sebesar: 1975.29%\n",
            "doc3 dan doc13 punya kemiripan sebesar: 1974.10%\n",
            "doc3 dan doc14 punya kemiripan sebesar: 1747.13%\n",
            "doc3 dan doc15 punya kemiripan sebesar: 1969.09%\n"
          ]
        }
      ],
      "source": [
        "distance23 = manhattan_distances(doc2_vect, doc3_vect)\n",
        "distance24 = manhattan_distances(doc2_vect, doc4_vect)\n",
        "distance25 = manhattan_distances(doc2_vect, doc5_vect)\n",
        "distance26 = manhattan_distances(doc2_vect, doc6_vect)\n",
        "distance27 = manhattan_distances(doc2_vect, doc7_vect)\n",
        "distance28 = manhattan_distances(doc2_vect, doc8_vect)\n",
        "distance29 = manhattan_distances(doc2_vect, doc9_vect)\n",
        "distance210 = manhattan_distances(doc2_vect, doc10_vect)\n",
        "distance211 = manhattan_distances(doc2_vect, doc11_vect)\n",
        "distance212 = manhattan_distances(doc2_vect, doc12_vect)\n",
        "distance213 = manhattan_distances(doc2_vect, doc13_vect)\n",
        "distance214 = manhattan_distances(doc2_vect, doc14_vect)\n",
        "\n",
        "\n",
        "print(\"doc3 dan doc4 punya kemiripan sebesar: {:.2%}\".format(distance23.item(0)))\n",
        "print(\"doc3 dan doc5 punya kemiripan sebesar: {:.2%}\".format(distance24.item(0)))\n",
        "print(\"doc3 dan doc6 punya kemiripan sebesar: {:.2%}\".format(distance25.item(0)))\n",
        "print(\"doc3 dan doc7 punya kemiripan sebesar: {:.2%}\".format(distance26.item(0)))\n",
        "print(\"doc3 dan doc8 punya kemiripan sebesar: {:.2%}\".format(distance27.item(0)))\n",
        "print(\"doc3 dan doc9 punya kemiripan sebesar: {:.2%}\".format(distance28.item(0)))\n",
        "print(\"doc3 dan doc10 punya kemiripan sebesar: {:.2%}\".format(distance29.item(0)))\n",
        "print(\"doc3 dan doc11 punya kemiripan sebesar: {:.2%}\".format(distance210.item(0)))\n",
        "print(\"doc3 dan doc12 punya kemiripan sebesar: {:.2%}\".format(distance211.item(0)))\n",
        "print(\"doc3 dan doc13 punya kemiripan sebesar: {:.2%}\".format(distance212.item(0)))\n",
        "print(\"doc3 dan doc14 punya kemiripan sebesar: {:.2%}\".format(distance213.item(0)))\n",
        "print(\"doc3 dan doc15 punya kemiripan sebesar: {:.2%}\".format(distance214.item(0)))"
      ]
    },
    {
      "cell_type": "markdown",
      "metadata": {
        "id": "tOOh-tmqKKz7"
      },
      "source": [
        "## Perbandingan doc4 dan doc lainnya"
      ]
    },
    {
      "cell_type": "code",
      "execution_count": null,
      "metadata": {
        "id": "r3aJ7DEbKKz8",
        "outputId": "b69a2d16-1c25-46f4-9152-b1808fe9e21a"
      },
      "outputs": [
        {
          "name": "stdout",
          "output_type": "stream",
          "text": [
            "doc4 dan doc5 punya kemiripan sebesar: 1490.40%\n",
            "doc4 dan doc6 punya kemiripan sebesar: 1653.53%\n",
            "doc4 dan doc7 punya kemiripan sebesar: 1569.23%\n",
            "doc4 dan doc8 punya kemiripan sebesar: 1345.34%\n",
            "doc4 dan doc9 punya kemiripan sebesar: 1221.87%\n",
            "doc4 dan doc10 punya kemiripan sebesar: 1509.87%\n",
            "doc4 dan doc11 punya kemiripan sebesar: 1721.61%\n",
            "doc4 dan doc12 punya kemiripan sebesar: 1687.29%\n",
            "doc4 dan doc13 punya kemiripan sebesar: 1569.75%\n",
            "doc4 dan doc14 punya kemiripan sebesar: 1453.03%\n",
            "doc4 dan doc15 punya kemiripan sebesar: 1683.99%\n"
          ]
        }
      ],
      "source": [
        "distance34 = manhattan_distances(doc3_vect, doc4_vect)\n",
        "distance35 = manhattan_distances(doc3_vect, doc5_vect)\n",
        "distance36 = manhattan_distances(doc3_vect, doc6_vect)\n",
        "distance37 = manhattan_distances(doc3_vect, doc7_vect)\n",
        "distance38 = manhattan_distances(doc3_vect, doc8_vect)\n",
        "distance39 = manhattan_distances(doc3_vect, doc9_vect)\n",
        "distance310 = manhattan_distances(doc3_vect, doc10_vect)\n",
        "distance311 = manhattan_distances(doc3_vect, doc11_vect)\n",
        "distance312 = manhattan_distances(doc3_vect, doc12_vect)\n",
        "distance313 = manhattan_distances(doc3_vect, doc13_vect)\n",
        "distance314 = manhattan_distances(doc3_vect, doc14_vect)\n",
        "\n",
        "\n",
        "\n",
        "print(\"doc4 dan doc5 punya kemiripan sebesar: {:.2%}\".format(distance34.item(0)))\n",
        "print(\"doc4 dan doc6 punya kemiripan sebesar: {:.2%}\".format(distance35.item(0)))\n",
        "print(\"doc4 dan doc7 punya kemiripan sebesar: {:.2%}\".format(distance36.item(0)))\n",
        "print(\"doc4 dan doc8 punya kemiripan sebesar: {:.2%}\".format(distance37.item(0)))\n",
        "print(\"doc4 dan doc9 punya kemiripan sebesar: {:.2%}\".format(distance38.item(0)))\n",
        "print(\"doc4 dan doc10 punya kemiripan sebesar: {:.2%}\".format(distance39.item(0)))\n",
        "print(\"doc4 dan doc11 punya kemiripan sebesar: {:.2%}\".format(distance310.item(0)))\n",
        "print(\"doc4 dan doc12 punya kemiripan sebesar: {:.2%}\".format(distance311.item(0)))\n",
        "print(\"doc4 dan doc13 punya kemiripan sebesar: {:.2%}\".format(distance312.item(0)))\n",
        "print(\"doc4 dan doc14 punya kemiripan sebesar: {:.2%}\".format(distance313.item(0)))\n",
        "print(\"doc4 dan doc15 punya kemiripan sebesar: {:.2%}\".format(distance314.item(0)))"
      ]
    },
    {
      "cell_type": "markdown",
      "metadata": {
        "id": "fuw69pYQKKz9"
      },
      "source": [
        "## Perbandingan doc5 dan doc lainnya"
      ]
    },
    {
      "cell_type": "code",
      "execution_count": null,
      "metadata": {
        "id": "5IlTI5HVKKz9",
        "outputId": "243eb832-8aa3-4534-f952-01cb1b9558bf"
      },
      "outputs": [
        {
          "name": "stdout",
          "output_type": "stream",
          "text": [
            "doc5 dan doc6 punya kemiripan sebesar: 1484.71%\n",
            "doc5 dan doc7 punya kemiripan sebesar: 1550.68%\n",
            "doc5 dan doc8 punya kemiripan sebesar: 1496.61%\n",
            "doc5 dan doc9 punya kemiripan sebesar: 1584.38%\n",
            "doc5 dan doc10 punya kemiripan sebesar: 1584.22%\n",
            "doc5 dan doc11 punya kemiripan sebesar: 1406.75%\n",
            "doc5 dan doc12 punya kemiripan sebesar: 1845.39%\n",
            "doc5 dan doc13 punya kemiripan sebesar: 1609.48%\n",
            "doc5 dan doc14 punya kemiripan sebesar: 1621.55%\n",
            "doc5 dan doc15 punya kemiripan sebesar: 1639.67%\n"
          ]
        }
      ],
      "source": [
        "distance45 = manhattan_distances(doc4_vect, doc5_vect)\n",
        "distance46 = manhattan_distances(doc4_vect, doc6_vect)\n",
        "distance47 = manhattan_distances(doc4_vect, doc7_vect)\n",
        "distance48 = manhattan_distances(doc4_vect, doc8_vect)\n",
        "distance49 = manhattan_distances(doc4_vect, doc9_vect)\n",
        "distance410 = manhattan_distances(doc4_vect, doc10_vect)\n",
        "distance411 = manhattan_distances(doc4_vect, doc11_vect)\n",
        "distance412 = manhattan_distances(doc4_vect, doc12_vect)\n",
        "distance413 = manhattan_distances(doc4_vect, doc13_vect)\n",
        "distance414 = manhattan_distances(doc4_vect, doc14_vect)\n",
        "\n",
        "\n",
        "\n",
        "print(\"doc5 dan doc6 punya kemiripan sebesar: {:.2%}\".format(distance45.item(0)))\n",
        "print(\"doc5 dan doc7 punya kemiripan sebesar: {:.2%}\".format(distance46.item(0)))\n",
        "print(\"doc5 dan doc8 punya kemiripan sebesar: {:.2%}\".format(distance47.item(0)))\n",
        "print(\"doc5 dan doc9 punya kemiripan sebesar: {:.2%}\".format(distance48.item(0)))\n",
        "print(\"doc5 dan doc10 punya kemiripan sebesar: {:.2%}\".format(distance49.item(0)))\n",
        "print(\"doc5 dan doc11 punya kemiripan sebesar: {:.2%}\".format(distance410.item(0)))\n",
        "print(\"doc5 dan doc12 punya kemiripan sebesar: {:.2%}\".format(distance411.item(0)))\n",
        "print(\"doc5 dan doc13 punya kemiripan sebesar: {:.2%}\".format(distance412.item(0)))\n",
        "print(\"doc5 dan doc14 punya kemiripan sebesar: {:.2%}\".format(distance413.item(0)))\n",
        "print(\"doc5 dan doc15 punya kemiripan sebesar: {:.2%}\".format(distance414.item(0)))"
      ]
    },
    {
      "cell_type": "markdown",
      "metadata": {
        "id": "Mf4pK9UpKKz-"
      },
      "source": [
        "## Perbandingan doc6 dan doc lainnya"
      ]
    },
    {
      "cell_type": "code",
      "execution_count": null,
      "metadata": {
        "id": "oXuH8eydKKz_",
        "outputId": "d6ea7a5b-14b0-4beb-c9cf-2a84d03ca8b8"
      },
      "outputs": [
        {
          "name": "stdout",
          "output_type": "stream",
          "text": [
            "doc6 dan doc7 punya kemiripan sebesar: 1477.11%\n",
            "doc6 dan doc8 punya kemiripan sebesar: 1454.92%\n",
            "doc6 dan doc9 punya kemiripan sebesar: 1682.53%\n",
            "doc6 dan doc10 punya kemiripan sebesar: 1579.13%\n",
            "doc6 dan doc11 punya kemiripan sebesar: 955.84%\n",
            "doc6 dan doc12 punya kemiripan sebesar: 1887.62%\n",
            "doc6 dan doc13 punya kemiripan sebesar: 1749.71%\n",
            "doc6 dan doc14 punya kemiripan sebesar: 1663.51%\n",
            "doc6 dan doc15 punya kemiripan sebesar: 1381.76%\n"
          ]
        }
      ],
      "source": [
        "distance56 = manhattan_distances(doc5_vect, doc6_vect)\n",
        "distance57 = manhattan_distances(doc5_vect, doc7_vect)\n",
        "distance58 = manhattan_distances(doc5_vect, doc8_vect)\n",
        "distance59 = manhattan_distances(doc5_vect, doc9_vect)\n",
        "distance510 = manhattan_distances(doc5_vect, doc10_vect)\n",
        "distance511 = manhattan_distances(doc5_vect, doc11_vect)\n",
        "distance512 = manhattan_distances(doc5_vect, doc12_vect)\n",
        "distance513 = manhattan_distances(doc5_vect, doc13_vect)\n",
        "distance514 = manhattan_distances(doc5_vect, doc14_vect)\n",
        "\n",
        "\n",
        "\n",
        "print(\"doc6 dan doc7 punya kemiripan sebesar: {:.2%}\".format(distance56.item(0)))\n",
        "print(\"doc6 dan doc8 punya kemiripan sebesar: {:.2%}\".format(distance57.item(0)))\n",
        "print(\"doc6 dan doc9 punya kemiripan sebesar: {:.2%}\".format(distance58.item(0)))\n",
        "print(\"doc6 dan doc10 punya kemiripan sebesar: {:.2%}\".format(distance59.item(0)))\n",
        "print(\"doc6 dan doc11 punya kemiripan sebesar: {:.2%}\".format(distance510.item(0)))\n",
        "print(\"doc6 dan doc12 punya kemiripan sebesar: {:.2%}\".format(distance511.item(0)))\n",
        "print(\"doc6 dan doc13 punya kemiripan sebesar: {:.2%}\".format(distance512.item(0)))\n",
        "print(\"doc6 dan doc14 punya kemiripan sebesar: {:.2%}\".format(distance513.item(0)))\n",
        "print(\"doc6 dan doc15 punya kemiripan sebesar: {:.2%}\".format(distance514.item(0)))"
      ]
    },
    {
      "cell_type": "markdown",
      "metadata": {
        "id": "xm7KQMKcKKz_"
      },
      "source": [
        "## Perbandingan doc7 dan doc lainnya"
      ]
    },
    {
      "cell_type": "code",
      "execution_count": null,
      "metadata": {
        "id": "qBloz7IGKKz_",
        "outputId": "3b34d7c3-c00a-43f8-e6a9-2717e24b551b"
      },
      "outputs": [
        {
          "name": "stdout",
          "output_type": "stream",
          "text": [
            "doc7 dan doc8 punya kemiripan sebesar: 1596.80%\n",
            "doc7 dan doc9 punya kemiripan sebesar: 1592.67%\n",
            "doc7 dan doc10 punya kemiripan sebesar: 1414.39%\n",
            "doc7 dan doc11 punya kemiripan sebesar: 1518.73%\n",
            "doc7 dan doc12 punya kemiripan sebesar: 1802.87%\n",
            "doc7 dan doc13 punya kemiripan sebesar: 1708.85%\n",
            "doc7 dan doc14 punya kemiripan sebesar: 1529.14%\n",
            "doc7 dan doc15 punya kemiripan sebesar: 1644.95%\n"
          ]
        }
      ],
      "source": [
        "distance67 = manhattan_distances(doc6_vect, doc7_vect)\n",
        "distance68 = manhattan_distances(doc6_vect, doc8_vect)\n",
        "distance69 = manhattan_distances(doc6_vect, doc9_vect)\n",
        "distance610 = manhattan_distances(doc6_vect, doc10_vect)\n",
        "distance611 = manhattan_distances(doc6_vect, doc11_vect)\n",
        "distance612 = manhattan_distances(doc6_vect, doc12_vect)\n",
        "distance613 = manhattan_distances(doc6_vect, doc13_vect)\n",
        "distance614 = manhattan_distances(doc6_vect, doc14_vect)\n",
        "\n",
        "\n",
        "\n",
        "print(\"doc7 dan doc8 punya kemiripan sebesar: {:.2%}\".format(distance67.item(0)))\n",
        "print(\"doc7 dan doc9 punya kemiripan sebesar: {:.2%}\".format(distance68.item(0)))\n",
        "print(\"doc7 dan doc10 punya kemiripan sebesar: {:.2%}\".format(distance69.item(0)))\n",
        "print(\"doc7 dan doc11 punya kemiripan sebesar: {:.2%}\".format(distance610.item(0)))\n",
        "print(\"doc7 dan doc12 punya kemiripan sebesar: {:.2%}\".format(distance611.item(0)))\n",
        "print(\"doc7 dan doc13 punya kemiripan sebesar: {:.2%}\".format(distance612.item(0)))\n",
        "print(\"doc7 dan doc14 punya kemiripan sebesar: {:.2%}\".format(distance613.item(0)))\n",
        "print(\"doc7 dan doc15 punya kemiripan sebesar: {:.2%}\".format(distance614.item(0)))"
      ]
    },
    {
      "cell_type": "markdown",
      "metadata": {
        "id": "Vm9ubYzhKK0A"
      },
      "source": [
        "## Perbandingan doc8 dan doc lainnya"
      ]
    },
    {
      "cell_type": "code",
      "execution_count": null,
      "metadata": {
        "id": "8hyMP_0sKK0A",
        "outputId": "4dfd5444-2021-43e3-e0e0-216827c2ce34"
      },
      "outputs": [
        {
          "name": "stdout",
          "output_type": "stream",
          "text": [
            "doc8 dan doc9 punya kemiripan sebesar: 1646.36%\n",
            "doc8 dan doc10 punya kemiripan sebesar: 1078.72%\n",
            "doc8 dan doc11 punya kemiripan sebesar: 1444.72%\n",
            "doc8 dan doc12 punya kemiripan sebesar: 1910.71%\n",
            "doc8 dan doc13 punya kemiripan sebesar: 1620.65%\n",
            "doc8 dan doc14 punya kemiripan sebesar: 1534.56%\n",
            "doc8 dan doc15 punya kemiripan sebesar: 1800.16%\n"
          ]
        }
      ],
      "source": [
        "distance78 = manhattan_distances(doc7_vect, doc8_vect)\n",
        "distance79 = manhattan_distances(doc7_vect, doc9_vect)\n",
        "distance710 = manhattan_distances(doc7_vect, doc10_vect)\n",
        "distance711 = manhattan_distances(doc7_vect, doc11_vect)\n",
        "distance712 = manhattan_distances(doc7_vect, doc12_vect)\n",
        "distance713 = manhattan_distances(doc7_vect, doc13_vect)\n",
        "distance714 = manhattan_distances(doc7_vect, doc14_vect)\n",
        "\n",
        "\n",
        "print(\"doc8 dan doc9 punya kemiripan sebesar: {:.2%}\".format(distance78.item(0)))\n",
        "print(\"doc8 dan doc10 punya kemiripan sebesar: {:.2%}\".format(distance79.item(0)))\n",
        "print(\"doc8 dan doc11 punya kemiripan sebesar: {:.2%}\".format(distance710.item(0)))\n",
        "print(\"doc8 dan doc12 punya kemiripan sebesar: {:.2%}\".format(distance711.item(0)))\n",
        "print(\"doc8 dan doc13 punya kemiripan sebesar: {:.2%}\".format(distance712.item(0)))\n",
        "print(\"doc8 dan doc14 punya kemiripan sebesar: {:.2%}\".format(distance713.item(0)))\n",
        "print(\"doc8 dan doc15 punya kemiripan sebesar: {:.2%}\".format(distance714.item(0)))"
      ]
    },
    {
      "cell_type": "markdown",
      "metadata": {
        "id": "FNoYzX9FKK0B"
      },
      "source": [
        "## Perbandingan doc9 dan doc lainnya"
      ]
    },
    {
      "cell_type": "code",
      "execution_count": null,
      "metadata": {
        "id": "_e1fjDNlKK0B",
        "outputId": "0bf12f96-5148-454d-8f5c-06bc89a19ab9"
      },
      "outputs": [
        {
          "name": "stdout",
          "output_type": "stream",
          "text": [
            "doc9 dan doc10 punya kemiripan sebesar: 1668.35%\n",
            "doc9 dan doc11 punya kemiripan sebesar: 1717.49%\n",
            "doc9 dan doc12 punya kemiripan sebesar: 1787.31%\n",
            "doc9 dan doc13 punya kemiripan sebesar: 1740.79%\n",
            "doc9 dan doc14 punya kemiripan sebesar: 1603.92%\n",
            "doc9 dan doc15 punya kemiripan sebesar: 1832.93%\n"
          ]
        }
      ],
      "source": [
        "distance89 = manhattan_distances(doc8_vect, doc9_vect)\n",
        "distance810 = manhattan_distances(doc8_vect, doc10_vect)\n",
        "distance811 = manhattan_distances(doc8_vect, doc11_vect)\n",
        "distance812 = manhattan_distances(doc8_vect, doc12_vect)\n",
        "distance813 = manhattan_distances(doc8_vect, doc13_vect)\n",
        "distance814 = manhattan_distances(doc8_vect, doc14_vect)\n",
        "\n",
        "\n",
        "print(\"doc9 dan doc10 punya kemiripan sebesar: {:.2%}\".format(distance89.item(0)))\n",
        "print(\"doc9 dan doc11 punya kemiripan sebesar: {:.2%}\".format(distance810.item(0)))\n",
        "print(\"doc9 dan doc12 punya kemiripan sebesar: {:.2%}\".format(distance811.item(0)))\n",
        "print(\"doc9 dan doc13 punya kemiripan sebesar: {:.2%}\".format(distance812.item(0)))\n",
        "print(\"doc9 dan doc14 punya kemiripan sebesar: {:.2%}\".format(distance813.item(0)))\n",
        "print(\"doc9 dan doc15 punya kemiripan sebesar: {:.2%}\".format(distance814.item(0)))"
      ]
    },
    {
      "cell_type": "markdown",
      "metadata": {
        "id": "iqoP3WefKK0C"
      },
      "source": [
        "## Perbandingan doc10 dan doc lainnya"
      ]
    },
    {
      "cell_type": "code",
      "execution_count": null,
      "metadata": {
        "id": "xlWXsSkWKK0C",
        "outputId": "cba3d6d1-9238-4bce-9493-346786246d3e"
      },
      "outputs": [
        {
          "name": "stdout",
          "output_type": "stream",
          "text": [
            "doc10 dan doc11 punya kemiripan sebesar: 1587.91%\n",
            "doc10 dan doc12 punya kemiripan sebesar: 1817.34%\n",
            "doc10 dan doc13 punya kemiripan sebesar: 1632.02%\n",
            "doc10 dan doc14 punya kemiripan sebesar: 1457.41%\n",
            "doc10 dan doc15 punya kemiripan sebesar: 1770.91%\n"
          ]
        }
      ],
      "source": [
        "distance910 = manhattan_distances(doc9_vect, doc10_vect)\n",
        "distance911 = manhattan_distances(doc9_vect, doc11_vect)\n",
        "distance912 = manhattan_distances(doc9_vect, doc12_vect)\n",
        "distance913 = manhattan_distances(doc9_vect, doc13_vect)\n",
        "distance914 = manhattan_distances(doc9_vect, doc14_vect)\n",
        "\n",
        "\n",
        "print(\"doc10 dan doc11 punya kemiripan sebesar: {:.2%}\".format(distance910.item(0)))\n",
        "print(\"doc10 dan doc12 punya kemiripan sebesar: {:.2%}\".format(distance911.item(0)))\n",
        "print(\"doc10 dan doc13 punya kemiripan sebesar: {:.2%}\".format(distance912.item(0)))\n",
        "print(\"doc10 dan doc14 punya kemiripan sebesar: {:.2%}\".format(distance913.item(0)))\n",
        "print(\"doc10 dan doc15 punya kemiripan sebesar: {:.2%}\".format(distance914.item(0)))"
      ]
    },
    {
      "cell_type": "markdown",
      "metadata": {
        "id": "Pkw3_Zx5KK0D"
      },
      "source": [
        "## Perbandingan doc11 dan doc lainnya"
      ]
    },
    {
      "cell_type": "code",
      "execution_count": null,
      "metadata": {
        "id": "Oeh5jqnYKK0D",
        "outputId": "6ea54f73-b17c-4f17-e97f-34efe32b5c21"
      },
      "outputs": [
        {
          "name": "stdout",
          "output_type": "stream",
          "text": [
            "doc11 dan doc12 punya kemiripan sebesar: 1915.97%\n",
            "doc11 dan doc13 punya kemiripan sebesar: 1716.18%\n",
            "doc11 dan doc14 punya kemiripan sebesar: 1755.76%\n",
            "doc11 dan doc15 punya kemiripan sebesar: 1616.83%\n"
          ]
        }
      ],
      "source": [
        "distance1011 = manhattan_distances(doc10_vect, doc11_vect)\n",
        "distance1012 = manhattan_distances(doc10_vect, doc12_vect)\n",
        "distance1013 = manhattan_distances(doc10_vect, doc13_vect)\n",
        "distance1014 = manhattan_distances(doc10_vect, doc14_vect)\n",
        "\n",
        "\n",
        "print(\"doc11 dan doc12 punya kemiripan sebesar: {:.2%}\".format(distance1011.item(0)))\n",
        "print(\"doc11 dan doc13 punya kemiripan sebesar: {:.2%}\".format(distance1012.item(0)))\n",
        "print(\"doc11 dan doc14 punya kemiripan sebesar: {:.2%}\".format(distance1013.item(0)))\n",
        "print(\"doc11 dan doc15 punya kemiripan sebesar: {:.2%}\".format(distance1014.item(0)))"
      ]
    },
    {
      "cell_type": "markdown",
      "metadata": {
        "id": "i4ZFg0oBKK0D"
      },
      "source": [
        "## Perbandingan doc12 dan doc lainnya"
      ]
    },
    {
      "cell_type": "code",
      "execution_count": null,
      "metadata": {
        "id": "H9NnV_yLKK0E",
        "outputId": "735659f2-fedc-44e2-d548-f2e3b2eade92"
      },
      "outputs": [
        {
          "name": "stdout",
          "output_type": "stream",
          "text": [
            "doc12 dan doc13 punya kemiripan sebesar: 1780.73%\n",
            "doc12 dan doc14 punya kemiripan sebesar: 1506.84%\n",
            "doc12 dan doc15 punya kemiripan sebesar: 1896.35%\n"
          ]
        }
      ],
      "source": [
        "distance1112 = manhattan_distances(doc11_vect, doc12_vect)\n",
        "distance1113 = manhattan_distances(doc11_vect, doc13_vect)\n",
        "distance1114 = manhattan_distances(doc11_vect, doc14_vect)\n",
        "\n",
        "\n",
        "print(\"doc12 dan doc13 punya kemiripan sebesar: {:.2%}\".format(distance1112.item(0)))\n",
        "print(\"doc12 dan doc14 punya kemiripan sebesar: {:.2%}\".format(distance1113.item(0)))\n",
        "print(\"doc12 dan doc15 punya kemiripan sebesar: {:.2%}\".format(distance1114.item(0)))"
      ]
    },
    {
      "cell_type": "markdown",
      "metadata": {
        "id": "ZBbKkKZZKK0E"
      },
      "source": [
        "## Perbandingan doc13 dan doc lainnya"
      ]
    },
    {
      "cell_type": "code",
      "execution_count": null,
      "metadata": {
        "id": "2B_u8HvcKK0F",
        "outputId": "a9985add-2d4d-4be3-9e51-1a7c4d14bd85"
      },
      "outputs": [
        {
          "name": "stdout",
          "output_type": "stream",
          "text": [
            "doc13 dan doc14 punya kemiripan sebesar: 1469.16%\n",
            "doc13 dan doc15 punya kemiripan sebesar: 1802.25%\n"
          ]
        }
      ],
      "source": [
        "distance1213 = manhattan_distances(doc12_vect, doc13_vect)\n",
        "distance1214 = manhattan_distances(doc12_vect, doc14_vect)\n",
        "\n",
        "\n",
        "print(\"doc13 dan doc14 punya kemiripan sebesar: {:.2%}\".format(distance1213.item(0)))\n",
        "print(\"doc13 dan doc15 punya kemiripan sebesar: {:.2%}\".format(distance1214.item(0)))"
      ]
    },
    {
      "cell_type": "markdown",
      "metadata": {
        "id": "CsUPqSTdKK0F"
      },
      "source": [
        "## Perbandingan doc14 dan doc lainnya"
      ]
    },
    {
      "cell_type": "code",
      "execution_count": null,
      "metadata": {
        "id": "MTD_PqhiKK0F",
        "outputId": "0b46ca91-e853-4a9f-9252-ce78ec1b21b6",
        "colab": {
          "base_uri": "https://localhost:8080/",
          "height": 200
        }
      },
      "outputs": [
        {
          "output_type": "error",
          "ename": "NameError",
          "evalue": "ignored",
          "traceback": [
            "\u001b[0;31m---------------------------------------------------------------------------\u001b[0m",
            "\u001b[0;31mNameError\u001b[0m                                 Traceback (most recent call last)",
            "\u001b[0;32m<ipython-input-1-738c052bd8be>\u001b[0m in \u001b[0;36m<module>\u001b[0;34m()\u001b[0m\n\u001b[0;32m----> 1\u001b[0;31m \u001b[0mdistance1314\u001b[0m \u001b[0;34m=\u001b[0m \u001b[0mmanhattan_distances\u001b[0m\u001b[0;34m(\u001b[0m\u001b[0mdoc13_vect\u001b[0m\u001b[0;34m,\u001b[0m \u001b[0mdoc14_vect\u001b[0m\u001b[0;34m)\u001b[0m\u001b[0;34m\u001b[0m\u001b[0;34m\u001b[0m\u001b[0m\n\u001b[0m\u001b[1;32m      2\u001b[0m \u001b[0;34m\u001b[0m\u001b[0m\n\u001b[1;32m      3\u001b[0m \u001b[0mprint\u001b[0m\u001b[0;34m(\u001b[0m\u001b[0;34m\"doc14 dan doc15 punya kemiripan sebesar: {:.2%}\"\u001b[0m\u001b[0;34m.\u001b[0m\u001b[0mformat\u001b[0m\u001b[0;34m(\u001b[0m\u001b[0mdistance1314\u001b[0m\u001b[0;34m.\u001b[0m\u001b[0mitem\u001b[0m\u001b[0;34m(\u001b[0m\u001b[0;36m0\u001b[0m\u001b[0;34m)\u001b[0m\u001b[0;34m)\u001b[0m\u001b[0;34m)\u001b[0m\u001b[0;34m\u001b[0m\u001b[0;34m\u001b[0m\u001b[0m\n",
            "\u001b[0;31mNameError\u001b[0m: name 'manhattan_distances' is not defined"
          ]
        }
      ],
      "source": [
        "distance1314 = manhattan_distances(doc13_vect, doc14_vect)\n",
        "\n",
        "print(\"doc14 dan doc15 punya kemiripan sebesar: {:.2%}\".format(distance1314.item(0)))"
      ]
    },
    {
      "cell_type": "markdown",
      "metadata": {
        "id": "Ww7JtjctKK0G"
      },
      "source": [
        "## b) Cosine Similarity\n",
        "Metode Consine Similarity merupakan metode yang digunakan untuk menghitung similarity(tingkat kesamaan) antar dua buah objek. Secara umum perhitungan metode ini didasarkan pada vector space similarity measure. Metode cosine similarity ini menghitung similarity antara dua buah objek(misalkan D1 dan D2) yang dinyatakan dalam dua buah vector dengan menggunakan keywords (kata kunci) dari sebuah dokumen sebagai ukuran."
      ]
    },
    {
      "cell_type": "markdown",
      "metadata": {
        "id": "QDypskduKK0G"
      },
      "source": [
        "## Perbandingan doc1 dan doc lainnya"
      ]
    },
    {
      "cell_type": "code",
      "execution_count": null,
      "metadata": {
        "id": "7CEsYoDfKK0H"
      },
      "outputs": [],
      "source": [
        "from sklearn.metrics.pairwise import cosine_distances\n",
        "doc0_vect = tfidf[0].reshape(1, -1) # document1\n",
        "doc1_vect = tfidf[1].reshape(1, -1) # document2\n",
        "doc2_vect = tfidf[2].reshape(1, -1) # document3\n",
        "doc3_vect = tfidf[3].reshape(1, -1) # document4\n",
        "doc4_vect = tfidf[4].reshape(1, -1) # document5\n",
        "doc5_vect = tfidf[5].reshape(1, -1) # document6\n",
        "doc6_vect = tfidf[6].reshape(1, -1) # document7\n",
        "doc7_vect = tfidf[7].reshape(1, -1) # document8\n",
        "doc8_vect = tfidf[8].reshape(1, -1) # document9\n",
        "doc9_vect = tfidf[9].reshape(1, -1) # document10\n",
        "doc10_vect = tfidf[10].reshape(1, -1) # document11\n",
        "doc11_vect = tfidf[11].reshape(1, -1) # document12\n",
        "doc12_vect = tfidf[12].reshape(1, -1) # document13\n",
        "doc13_vect = tfidf[13].reshape(1, -1) # document14\n",
        "doc14_vect = tfidf[14].reshape(1, -1) # document15"
      ]
    },
    {
      "cell_type": "code",
      "execution_count": null,
      "metadata": {
        "id": "hHMiMk_eKK0H",
        "outputId": "a2c30795-c28d-4e4f-eeb0-c28399dda4de"
      },
      "outputs": [
        {
          "name": "stdout",
          "output_type": "stream",
          "text": [
            "doc1 dan doc2 punya kemiripan sebesar: 54.90%\n",
            "doc1 dan doc3 punya kemiripan sebesar: 34.71%\n",
            "doc1 dan doc4 punya kemiripan sebesar: 75.85%\n",
            "doc1 dan doc5 punya kemiripan sebesar: 60.95%\n",
            "doc1 dan doc6 punya kemiripan sebesar: 69.82%\n",
            "doc1 dan doc7 punya kemiripan sebesar: 70.63%\n",
            "doc1 dan doc8 punya kemiripan sebesar: 65.86%\n",
            "doc1 dan doc9 punya kemiripan sebesar: 70.64%\n",
            "doc1 dan doc10 punya kemiripan sebesar: 70.49%\n",
            "doc1 dan doc11 punya kemiripan sebesar: 71.10%\n",
            "doc1 dan doc12 punya kemiripan sebesar: 82.39%\n",
            "doc1 dan doc13 punya kemiripan sebesar: 76.59%\n",
            "doc1 dan doc14 punya kemiripan sebesar: 75.41%\n"
          ]
        }
      ],
      "source": [
        "cosine01 = cosine_distances(doc0_vect, doc1_vect)\n",
        "cosine02 = cosine_distances(doc0_vect, doc2_vect)\n",
        "cosine03 = cosine_distances(doc0_vect, doc3_vect)\n",
        "cosine04 = cosine_distances(doc0_vect, doc4_vect)\n",
        "cosine05 = cosine_distances(doc0_vect, doc5_vect)\n",
        "cosine06 = cosine_distances(doc0_vect, doc6_vect)\n",
        "cosine07 = cosine_distances(doc0_vect, doc7_vect)\n",
        "cosine08 = cosine_distances(doc0_vect, doc8_vect)\n",
        "cosine09 = cosine_distances(doc0_vect, doc9_vect)\n",
        "cosine010 = cosine_distances(doc0_vect, doc10_vect)\n",
        "cosine011 = cosine_distances(doc0_vect, doc11_vect)\n",
        "cosine012 = cosine_distances(doc0_vect, doc12_vect)\n",
        "cosine013 = cosine_distances(doc0_vect, doc13_vect)\n",
        "cosine014 = cosine_distances(doc0_vect, doc14_vect)\n",
        "\n",
        "print(\"doc1 dan doc2 punya kemiripan sebesar: {:.2%}\".format(cosine01.item(0)))\n",
        "print(\"doc1 dan doc3 punya kemiripan sebesar: {:.2%}\".format(cosine02.item(0)))\n",
        "print(\"doc1 dan doc4 punya kemiripan sebesar: {:.2%}\".format(cosine03.item(0)))\n",
        "print(\"doc1 dan doc5 punya kemiripan sebesar: {:.2%}\".format(cosine04.item(0)))\n",
        "print(\"doc1 dan doc6 punya kemiripan sebesar: {:.2%}\".format(cosine05.item(0)))\n",
        "print(\"doc1 dan doc7 punya kemiripan sebesar: {:.2%}\".format(cosine06.item(0)))\n",
        "print(\"doc1 dan doc8 punya kemiripan sebesar: {:.2%}\".format(cosine07.item(0)))\n",
        "print(\"doc1 dan doc9 punya kemiripan sebesar: {:.2%}\".format(cosine08.item(0)))\n",
        "print(\"doc1 dan doc10 punya kemiripan sebesar: {:.2%}\".format(cosine09.item(0)))\n",
        "print(\"doc1 dan doc11 punya kemiripan sebesar: {:.2%}\".format(cosine010.item(0)))\n",
        "print(\"doc1 dan doc12 punya kemiripan sebesar: {:.2%}\".format(cosine011.item(0)))\n",
        "print(\"doc1 dan doc13 punya kemiripan sebesar: {:.2%}\".format(cosine012.item(0)))\n",
        "print(\"doc1 dan doc14 punya kemiripan sebesar: {:.2%}\".format(cosine014.item(0)))"
      ]
    },
    {
      "cell_type": "markdown",
      "metadata": {
        "id": "cxfTrEPIKK0H"
      },
      "source": [
        "## Perbandingan doc2 dan doc lainnya"
      ]
    },
    {
      "cell_type": "code",
      "execution_count": null,
      "metadata": {
        "id": "gY4YUyGPKK0I",
        "outputId": "29c536ea-b922-4f8f-93c0-77635f302b9b"
      },
      "outputs": [
        {
          "name": "stdout",
          "output_type": "stream",
          "text": [
            "doc2 dan doc3 punya kemiripan sebesar: 71.01%\n",
            "doc2 dan doc4 punya kemiripan sebesar: 76.27%\n",
            "doc2 dan doc5 punya kemiripan sebesar: 52.08%\n",
            "doc2 dan doc6 punya kemiripan sebesar: 69.81%\n",
            "doc2 dan doc7 punya kemiripan sebesar: 68.22%\n",
            "doc2 dan doc8 punya kemiripan sebesar: 66.80%\n",
            "doc2 dan doc9 punya kemiripan sebesar: 60.11%\n",
            "doc2 dan doc10 punya kemiripan sebesar: 72.82%\n",
            "doc2 dan doc11 punya kemiripan sebesar: 68.00%\n",
            "doc2 dan doc12 punya kemiripan sebesar: 79.45%\n",
            "doc2 dan doc13 punya kemiripan sebesar: 74.28%\n",
            "doc2 dan doc14 punya kemiripan sebesar: 73.30%\n"
          ]
        }
      ],
      "source": [
        "cosine12 = cosine_distances(doc1_vect, doc2_vect)\n",
        "cosine13 = cosine_distances(doc1_vect, doc3_vect)\n",
        "cosine14 = cosine_distances(doc1_vect, doc4_vect)\n",
        "cosine15 = cosine_distances(doc1_vect, doc5_vect)\n",
        "cosine16 = cosine_distances(doc1_vect, doc6_vect)\n",
        "cosine17 = cosine_distances(doc1_vect, doc7_vect)\n",
        "cosine18 = cosine_distances(doc1_vect, doc8_vect)\n",
        "cosine19 = cosine_distances(doc1_vect, doc9_vect)\n",
        "cosine110 = cosine_distances(doc1_vect, doc10_vect)\n",
        "cosine111 = cosine_distances(doc1_vect, doc11_vect)\n",
        "cosine112 = cosine_distances(doc1_vect, doc12_vect)\n",
        "cosine113 = cosine_distances(doc1_vect, doc13_vect)\n",
        "cosine114 = cosine_distances(doc1_vect, doc14_vect)\n",
        "\n",
        "print(\"doc2 dan doc3 punya kemiripan sebesar: {:.2%}\".format(cosine12.item(0)))\n",
        "print(\"doc2 dan doc4 punya kemiripan sebesar: {:.2%}\".format(cosine13.item(0)))\n",
        "print(\"doc2 dan doc5 punya kemiripan sebesar: {:.2%}\".format(cosine14.item(0)))\n",
        "print(\"doc2 dan doc6 punya kemiripan sebesar: {:.2%}\".format(cosine15.item(0)))\n",
        "print(\"doc2 dan doc7 punya kemiripan sebesar: {:.2%}\".format(cosine16.item(0)))\n",
        "print(\"doc2 dan doc8 punya kemiripan sebesar: {:.2%}\".format(cosine17.item(0)))\n",
        "print(\"doc2 dan doc9 punya kemiripan sebesar: {:.2%}\".format(cosine18.item(0)))\n",
        "print(\"doc2 dan doc10 punya kemiripan sebesar: {:.2%}\".format(cosine19.item(0)))\n",
        "print(\"doc2 dan doc11 punya kemiripan sebesar: {:.2%}\".format(cosine110.item(0)))\n",
        "print(\"doc2 dan doc12 punya kemiripan sebesar: {:.2%}\".format(cosine111.item(0)))\n",
        "print(\"doc2 dan doc13 punya kemiripan sebesar: {:.2%}\".format(cosine112.item(0)))\n",
        "print(\"doc2 dan doc14 punya kemiripan sebesar: {:.2%}\".format(cosine114.item(0)))"
      ]
    },
    {
      "cell_type": "markdown",
      "metadata": {
        "id": "bK0fyZ-UKK0I"
      },
      "source": [
        "## Perbandingan doc3 dan doc lainnya"
      ]
    },
    {
      "cell_type": "code",
      "execution_count": null,
      "metadata": {
        "id": "FKeteEMFKK0I",
        "outputId": "35156188-fb67-444b-c34e-b7778fbf5432"
      },
      "outputs": [
        {
          "name": "stdout",
          "output_type": "stream",
          "text": [
            "doc3 dan doc4 punya kemiripan sebesar: 78.80%\n",
            "doc3 dan doc5 punya kemiripan sebesar: 69.41%\n",
            "doc3 dan doc6 punya kemiripan sebesar: 72.85%\n",
            "doc3 dan doc7 punya kemiripan sebesar: 74.68%\n",
            "doc3 dan doc8 punya kemiripan sebesar: 73.55%\n",
            "doc3 dan doc9 punya kemiripan sebesar: 75.75%\n",
            "doc3 dan doc10 punya kemiripan sebesar: 77.47%\n",
            "doc3 dan doc11 punya kemiripan sebesar: 73.94%\n",
            "doc3 dan doc12 punya kemiripan sebesar: 85.10%\n",
            "doc3 dan doc13 punya kemiripan sebesar: 82.15%\n",
            "doc3 dan doc14 punya kemiripan sebesar: 72.88%\n"
          ]
        }
      ],
      "source": [
        "cosine23 = cosine_distances(doc2_vect, doc3_vect)\n",
        "cosine24 = cosine_distances(doc2_vect, doc4_vect)\n",
        "cosine25 = cosine_distances(doc2_vect, doc5_vect)\n",
        "cosine26 = cosine_distances(doc2_vect, doc6_vect)\n",
        "cosine27 = cosine_distances(doc2_vect, doc7_vect)\n",
        "cosine28 = cosine_distances(doc2_vect, doc8_vect)\n",
        "cosine29 = cosine_distances(doc2_vect, doc9_vect)\n",
        "cosine210 = cosine_distances(doc2_vect, doc10_vect)\n",
        "cosine211 = cosine_distances(doc2_vect, doc11_vect)\n",
        "cosine212 = cosine_distances(doc2_vect, doc12_vect)\n",
        "cosine213 = cosine_distances(doc2_vect, doc13_vect)\n",
        "cosine214 = cosine_distances(doc2_vect, doc14_vect)\n",
        "\n",
        "print(\"doc3 dan doc4 punya kemiripan sebesar: {:.2%}\".format(cosine23.item(0)))\n",
        "print(\"doc3 dan doc5 punya kemiripan sebesar: {:.2%}\".format(cosine24.item(0)))\n",
        "print(\"doc3 dan doc6 punya kemiripan sebesar: {:.2%}\".format(cosine25.item(0)))\n",
        "print(\"doc3 dan doc7 punya kemiripan sebesar: {:.2%}\".format(cosine26.item(0)))\n",
        "print(\"doc3 dan doc8 punya kemiripan sebesar: {:.2%}\".format(cosine27.item(0)))\n",
        "print(\"doc3 dan doc9 punya kemiripan sebesar: {:.2%}\".format(cosine28.item(0)))\n",
        "print(\"doc3 dan doc10 punya kemiripan sebesar: {:.2%}\".format(cosine29.item(0)))\n",
        "print(\"doc3 dan doc11 punya kemiripan sebesar: {:.2%}\".format(cosine210.item(0)))\n",
        "print(\"doc3 dan doc12 punya kemiripan sebesar: {:.2%}\".format(cosine211.item(0)))\n",
        "print(\"doc3 dan doc13 punya kemiripan sebesar: {:.2%}\".format(cosine212.item(0)))\n",
        "print(\"doc3 dan doc14 punya kemiripan sebesar: {:.2%}\".format(cosine214.item(0)))"
      ]
    },
    {
      "cell_type": "markdown",
      "metadata": {
        "id": "k7vNI75lKK0J"
      },
      "source": [
        "## Perbandingan doc4 dan doc lainnya"
      ]
    },
    {
      "cell_type": "code",
      "execution_count": null,
      "metadata": {
        "id": "JzwlpYBcKK0J",
        "outputId": "33a9dd73-701a-47ea-a99c-32de8e281c73"
      },
      "outputs": [
        {
          "name": "stdout",
          "output_type": "stream",
          "text": [
            "doc4 dan doc5 punya kemiripan sebesar: 56.12%\n",
            "doc4 dan doc6 punya kemiripan sebesar: 71.89%\n",
            "doc4 dan doc7 punya kemiripan sebesar: 71.82%\n",
            "doc4 dan doc8 punya kemiripan sebesar: 55.56%\n",
            "doc4 dan doc9 punya kemiripan sebesar: 49.83%\n",
            "doc4 dan doc10 punya kemiripan sebesar: 71.34%\n",
            "doc4 dan doc11 punya kemiripan sebesar: 73.26%\n",
            "doc4 dan doc12 punya kemiripan sebesar: 70.22%\n",
            "doc4 dan doc13 punya kemiripan sebesar: 65.54%\n",
            "doc4 dan doc14 punya kemiripan sebesar: 69.21%\n"
          ]
        }
      ],
      "source": [
        "cosine34 = cosine_distances(doc3_vect, doc4_vect)\n",
        "cosine35 = cosine_distances(doc3_vect, doc5_vect)\n",
        "cosine36 = cosine_distances(doc3_vect, doc6_vect)\n",
        "cosine37 = cosine_distances(doc3_vect, doc7_vect)\n",
        "cosine38 = cosine_distances(doc3_vect, doc8_vect)\n",
        "cosine39 = cosine_distances(doc3_vect, doc9_vect)\n",
        "cosine310 = cosine_distances(doc3_vect, doc10_vect)\n",
        "cosine311 = cosine_distances(doc3_vect, doc11_vect)\n",
        "cosine312 = cosine_distances(doc3_vect, doc12_vect)\n",
        "cosine313 = cosine_distances(doc3_vect, doc13_vect)\n",
        "cosine314 = cosine_distances(doc3_vect, doc14_vect)\n",
        "\n",
        "print(\"doc4 dan doc5 punya kemiripan sebesar: {:.2%}\".format(cosine34.item(0)))\n",
        "print(\"doc4 dan doc6 punya kemiripan sebesar: {:.2%}\".format(cosine35.item(0)))\n",
        "print(\"doc4 dan doc7 punya kemiripan sebesar: {:.2%}\".format(cosine36.item(0)))\n",
        "print(\"doc4 dan doc8 punya kemiripan sebesar: {:.2%}\".format(cosine37.item(0)))\n",
        "print(\"doc4 dan doc9 punya kemiripan sebesar: {:.2%}\".format(cosine38.item(0)))\n",
        "print(\"doc4 dan doc10 punya kemiripan sebesar: {:.2%}\".format(cosine39.item(0)))\n",
        "print(\"doc4 dan doc11 punya kemiripan sebesar: {:.2%}\".format(cosine310.item(0)))\n",
        "print(\"doc4 dan doc12 punya kemiripan sebesar: {:.2%}\".format(cosine311.item(0)))\n",
        "print(\"doc4 dan doc13 punya kemiripan sebesar: {:.2%}\".format(cosine312.item(0)))\n",
        "print(\"doc4 dan doc14 punya kemiripan sebesar: {:.2%}\".format(cosine314.item(0)))"
      ]
    },
    {
      "cell_type": "markdown",
      "metadata": {
        "id": "Jt_13b7uKK0K"
      },
      "source": [
        "## Perbandingan doc5 dan doc lainnya"
      ]
    },
    {
      "cell_type": "code",
      "execution_count": null,
      "metadata": {
        "id": "8m9NIZILKK0K",
        "outputId": "0bbe0410-b8ed-4f65-a5a3-06fcf1a06e9e"
      },
      "outputs": [
        {
          "name": "stdout",
          "output_type": "stream",
          "text": [
            "doc5 dan doc6 punya kemiripan sebesar: 51.22%\n",
            "doc5 dan doc7 punya kemiripan sebesar: 60.10%\n",
            "doc5 dan doc8 punya kemiripan sebesar: 51.13%\n",
            "doc5 dan doc9 punya kemiripan sebesar: 55.61%\n",
            "doc5 dan doc10 punya kemiripan sebesar: 61.27%\n",
            "doc5 dan doc11 punya kemiripan sebesar: 51.49%\n",
            "doc5 dan doc12 punya kemiripan sebesar: 76.10%\n",
            "doc5 dan doc13 punya kemiripan sebesar: 63.18%\n",
            "doc5 dan doc14 punya kemiripan sebesar: 74.67%\n",
            "doc5 dan doc15 punya kemiripan sebesar: 59.90%\n"
          ]
        }
      ],
      "source": [
        "cosine45 = cosine_distances(doc4_vect, doc5_vect)\n",
        "cosine46 = cosine_distances(doc4_vect, doc6_vect)\n",
        "cosine47 = cosine_distances(doc4_vect, doc7_vect)\n",
        "cosine48 = cosine_distances(doc4_vect, doc8_vect)\n",
        "cosine49 = cosine_distances(doc4_vect, doc9_vect)\n",
        "cosine410 = cosine_distances(doc4_vect, doc10_vect)\n",
        "cosine411 = cosine_distances(doc4_vect, doc11_vect)\n",
        "cosine412 = cosine_distances(doc4_vect, doc12_vect)\n",
        "cosine413 = cosine_distances(doc4_vect, doc13_vect)\n",
        "cosine414 = cosine_distances(doc4_vect, doc14_vect)\n",
        "\n",
        "print(\"doc5 dan doc6 punya kemiripan sebesar: {:.2%}\".format(cosine45.item(0)))\n",
        "print(\"doc5 dan doc7 punya kemiripan sebesar: {:.2%}\".format(cosine46.item(0)))\n",
        "print(\"doc5 dan doc8 punya kemiripan sebesar: {:.2%}\".format(cosine47.item(0)))\n",
        "print(\"doc5 dan doc9 punya kemiripan sebesar: {:.2%}\".format(cosine48.item(0)))\n",
        "print(\"doc5 dan doc10 punya kemiripan sebesar: {:.2%}\".format(cosine49.item(0)))\n",
        "print(\"doc5 dan doc11 punya kemiripan sebesar: {:.2%}\".format(cosine410.item(0)))\n",
        "print(\"doc5 dan doc12 punya kemiripan sebesar: {:.2%}\".format(cosine411.item(0)))\n",
        "print(\"doc5 dan doc13 punya kemiripan sebesar: {:.2%}\".format(cosine412.item(0)))\n",
        "print(\"doc5 dan doc14 punya kemiripan sebesar: {:.2%}\".format(cosine413.item(0)))\n",
        "print(\"doc5 dan doc15 punya kemiripan sebesar: {:.2%}\".format(cosine414.item(0)))"
      ]
    },
    {
      "cell_type": "markdown",
      "metadata": {
        "id": "MGLmZY1OKK0L"
      },
      "source": [
        "## Perbandingan doc6 dan doc lainnya"
      ]
    },
    {
      "cell_type": "code",
      "execution_count": null,
      "metadata": {
        "id": "_oolUwucKK0L",
        "outputId": "effea074-4564-4f6c-ed56-a9ebc4327979"
      },
      "outputs": [
        {
          "name": "stdout",
          "output_type": "stream",
          "text": [
            "doc6 dan doc7 punya kemiripan sebesar: 55.86%\n",
            "doc6 dan doc8 punya kemiripan sebesar: 55.83%\n",
            "doc6 dan doc9 punya kemiripan sebesar: 64.69%\n",
            "doc6 dan doc10 punya kemiripan sebesar: 65.22%\n",
            "doc6 dan doc11 punya kemiripan sebesar: 30.03%\n",
            "doc6 dan doc12 punya kemiripan sebesar: 79.44%\n",
            "doc6 dan doc13 punya kemiripan sebesar: 69.81%\n",
            "doc6 dan doc14 punya kemiripan sebesar: 78.87%\n",
            "doc6 dan doc15 punya kemiripan sebesar: 49.80%\n"
          ]
        }
      ],
      "source": [
        "cosine56 = cosine_distances(doc5_vect, doc6_vect)\n",
        "cosine57 = cosine_distances(doc5_vect, doc7_vect)\n",
        "cosine58 = cosine_distances(doc5_vect, doc8_vect)\n",
        "cosine59 = cosine_distances(doc5_vect, doc9_vect)\n",
        "cosine510 = cosine_distances(doc5_vect, doc10_vect)\n",
        "cosine511 = cosine_distances(doc5_vect, doc11_vect)\n",
        "cosine512 = cosine_distances(doc5_vect, doc12_vect)\n",
        "cosine513 = cosine_distances(doc5_vect, doc13_vect)\n",
        "cosine514 = cosine_distances(doc5_vect, doc14_vect)\n",
        "\n",
        "print(\"doc6 dan doc7 punya kemiripan sebesar: {:.2%}\".format(cosine56.item(0)))\n",
        "print(\"doc6 dan doc8 punya kemiripan sebesar: {:.2%}\".format(cosine57.item(0)))\n",
        "print(\"doc6 dan doc9 punya kemiripan sebesar: {:.2%}\".format(cosine58.item(0)))\n",
        "print(\"doc6 dan doc10 punya kemiripan sebesar: {:.2%}\".format(cosine59.item(0)))\n",
        "print(\"doc6 dan doc11 punya kemiripan sebesar: {:.2%}\".format(cosine510.item(0)))\n",
        "print(\"doc6 dan doc12 punya kemiripan sebesar: {:.2%}\".format(cosine511.item(0)))\n",
        "print(\"doc6 dan doc13 punya kemiripan sebesar: {:.2%}\".format(cosine512.item(0)))\n",
        "print(\"doc6 dan doc14 punya kemiripan sebesar: {:.2%}\".format(cosine513.item(0)))\n",
        "print(\"doc6 dan doc15 punya kemiripan sebesar: {:.2%}\".format(cosine514.item(0)))"
      ]
    },
    {
      "cell_type": "markdown",
      "metadata": {
        "id": "xMqEraxIKK0L"
      },
      "source": [
        "## Perbandingan doc7 dan doc lainnya"
      ]
    },
    {
      "cell_type": "code",
      "execution_count": null,
      "metadata": {
        "id": "5klMBHdHKK0M",
        "outputId": "0dd51eeb-7312-4964-fcfa-dc1f56f1abe0"
      },
      "outputs": [
        {
          "name": "stdout",
          "output_type": "stream",
          "text": [
            "doc7 dan doc8 punya kemiripan sebesar: 64.81%\n",
            "doc7 dan doc9 punya kemiripan sebesar: 67.30%\n",
            "doc7 dan doc10 punya kemiripan sebesar: 62.32%\n",
            "doc7 dan doc11 punya kemiripan sebesar: 58.21%\n",
            "doc7 dan doc12 punya kemiripan sebesar: 81.04%\n",
            "doc7 dan doc13 punya kemiripan sebesar: 73.23%\n",
            "doc7 dan doc14 punya kemiripan sebesar: 76.48%\n",
            "doc7 dan doc15 punya kemiripan sebesar: 61.95%\n"
          ]
        }
      ],
      "source": [
        "cosine67 = cosine_distances(doc6_vect, doc7_vect)\n",
        "cosine68 = cosine_distances(doc6_vect, doc8_vect)\n",
        "cosine69 = cosine_distances(doc6_vect, doc9_vect)\n",
        "cosine610 = cosine_distances(doc6_vect, doc10_vect)\n",
        "cosine611 = cosine_distances(doc6_vect, doc11_vect)\n",
        "cosine612 = cosine_distances(doc6_vect, doc12_vect)\n",
        "cosine613 = cosine_distances(doc6_vect, doc13_vect)\n",
        "cosine614 = cosine_distances(doc6_vect, doc14_vect)\n",
        "\n",
        "print(\"doc7 dan doc8 punya kemiripan sebesar: {:.2%}\".format(cosine67.item(0)))\n",
        "print(\"doc7 dan doc9 punya kemiripan sebesar: {:.2%}\".format(cosine68.item(0)))\n",
        "print(\"doc7 dan doc10 punya kemiripan sebesar: {:.2%}\".format(cosine69.item(0)))\n",
        "print(\"doc7 dan doc11 punya kemiripan sebesar: {:.2%}\".format(cosine610.item(0)))\n",
        "print(\"doc7 dan doc12 punya kemiripan sebesar: {:.2%}\".format(cosine611.item(0)))\n",
        "print(\"doc7 dan doc13 punya kemiripan sebesar: {:.2%}\".format(cosine612.item(0)))\n",
        "print(\"doc7 dan doc14 punya kemiripan sebesar: {:.2%}\".format(cosine613.item(0)))\n",
        "print(\"doc7 dan doc15 punya kemiripan sebesar: {:.2%}\".format(cosine614.item(0)))"
      ]
    },
    {
      "cell_type": "markdown",
      "metadata": {
        "id": "xzXvb4kUKK0M"
      },
      "source": [
        "## Perbandingan doc8 dan doc lainnya"
      ]
    },
    {
      "cell_type": "code",
      "execution_count": null,
      "metadata": {
        "id": "0sisG29EKK0M",
        "outputId": "2904aa5b-ba42-4c26-9f79-65f302e4f47b"
      },
      "outputs": [
        {
          "name": "stdout",
          "output_type": "stream",
          "text": [
            "doc8 dan doc9 punya kemiripan sebesar: 64.73%\n",
            "doc8 dan doc10 punya kemiripan sebesar: 43.22%\n",
            "doc8 dan doc11 punya kemiripan sebesar: 55.42%\n",
            "doc8 dan doc12 punya kemiripan sebesar: 79.15%\n",
            "doc8 dan doc13 punya kemiripan sebesar: 62.62%\n",
            "doc8 dan doc14 punya kemiripan sebesar: 66.88%\n",
            "doc8 dan doc15 punya kemiripan sebesar: 66.08%\n"
          ]
        }
      ],
      "source": [
        "cosine78 = cosine_distances(doc7_vect, doc8_vect)\n",
        "cosine79 = cosine_distances(doc7_vect, doc9_vect)\n",
        "cosine710 = cosine_distances(doc7_vect, doc10_vect)\n",
        "cosine711 = cosine_distances(doc7_vect, doc11_vect)\n",
        "cosine712 = cosine_distances(doc7_vect, doc12_vect)\n",
        "cosine713 = cosine_distances(doc7_vect, doc13_vect)\n",
        "cosine714 = cosine_distances(doc7_vect, doc14_vect)\n",
        "\n",
        "print(\"doc8 dan doc9 punya kemiripan sebesar: {:.2%}\".format(cosine78.item(0)))\n",
        "print(\"doc8 dan doc10 punya kemiripan sebesar: {:.2%}\".format(cosine79.item(0)))\n",
        "print(\"doc8 dan doc11 punya kemiripan sebesar: {:.2%}\".format(cosine710.item(0)))\n",
        "print(\"doc8 dan doc12 punya kemiripan sebesar: {:.2%}\".format(cosine711.item(0)))\n",
        "print(\"doc8 dan doc13 punya kemiripan sebesar: {:.2%}\".format(cosine712.item(0)))\n",
        "print(\"doc8 dan doc14 punya kemiripan sebesar: {:.2%}\".format(cosine713.item(0)))\n",
        "print(\"doc8 dan doc15 punya kemiripan sebesar: {:.2%}\".format(cosine714.item(0)))"
      ]
    },
    {
      "cell_type": "markdown",
      "metadata": {
        "id": "MdPO7vsgKK0N"
      },
      "source": [
        "## Perbandingan doc9 dan doc lainnya"
      ]
    },
    {
      "cell_type": "code",
      "execution_count": null,
      "metadata": {
        "id": "7LBdAnNFKK0N",
        "outputId": "3ac4d542-a319-4769-8b37-75a31e40d938"
      },
      "outputs": [
        {
          "name": "stdout",
          "output_type": "stream",
          "text": [
            "doc9 dan doc10 punya kemiripan sebesar: 73.42%\n",
            "doc9 dan doc11 punya kemiripan sebesar: 66.99%\n",
            "doc9 dan doc12 punya kemiripan sebesar: 73.68%\n",
            "doc9 dan doc13 punya kemiripan sebesar: 73.25%\n",
            "doc9 dan doc14 punya kemiripan sebesar: 72.13%\n",
            "doc9 dan doc15 punya kemiripan sebesar: 71.46%\n"
          ]
        }
      ],
      "source": [
        "cosine89 = cosine_distances(doc8_vect, doc9_vect)\n",
        "cosine810 = cosine_distances(doc8_vect, doc10_vect)\n",
        "cosine811 = cosine_distances(doc8_vect, doc11_vect)\n",
        "cosine812 = cosine_distances(doc8_vect, doc12_vect)\n",
        "cosine813 = cosine_distances(doc8_vect, doc13_vect)\n",
        "cosine814 = cosine_distances(doc8_vect, doc14_vect)\n",
        "\n",
        "print(\"doc9 dan doc10 punya kemiripan sebesar: {:.2%}\".format(cosine89.item(0)))\n",
        "print(\"doc9 dan doc11 punya kemiripan sebesar: {:.2%}\".format(cosine810.item(0)))\n",
        "print(\"doc9 dan doc12 punya kemiripan sebesar: {:.2%}\".format(cosine811.item(0)))\n",
        "print(\"doc9 dan doc13 punya kemiripan sebesar: {:.2%}\".format(cosine812.item(0)))\n",
        "print(\"doc9 dan doc14 punya kemiripan sebesar: {:.2%}\".format(cosine813.item(0)))\n",
        "print(\"doc9 dan doc15 punya kemiripan sebesar: {:.2%}\".format(cosine814.item(0)))"
      ]
    },
    {
      "cell_type": "markdown",
      "metadata": {
        "id": "2QIZC9oAKK0O"
      },
      "source": [
        "## Perbandingan doc10 dan doc lainnya"
      ]
    },
    {
      "cell_type": "code",
      "execution_count": null,
      "metadata": {
        "id": "HOwnDxG0KK0O",
        "outputId": "470321e1-23b3-4668-b76e-4f445dd18b3c"
      },
      "outputs": [
        {
          "name": "stdout",
          "output_type": "stream",
          "text": [
            "doc10 dan doc11 punya kemiripan sebesar: 64.97%\n",
            "doc10 dan doc12 punya kemiripan sebesar: 81.78%\n",
            "doc10 dan doc13 punya kemiripan sebesar: 67.29%\n",
            "doc10 dan doc14 punya kemiripan sebesar: 70.96%\n",
            "doc10 dan doc15 punya kemiripan sebesar: 72.88%\n"
          ]
        }
      ],
      "source": [
        "cosine910 = cosine_distances(doc9_vect, doc10_vect)\n",
        "cosine911 = cosine_distances(doc9_vect, doc11_vect)\n",
        "cosine912 = cosine_distances(doc9_vect, doc12_vect)\n",
        "cosine913 = cosine_distances(doc9_vect, doc13_vect)\n",
        "cosine914 = cosine_distances(doc9_vect, doc14_vect)\n",
        "\n",
        "print(\"doc10 dan doc11 punya kemiripan sebesar: {:.2%}\".format(cosine910.item(0)))\n",
        "print(\"doc10 dan doc12 punya kemiripan sebesar: {:.2%}\".format(cosine911.item(0)))\n",
        "print(\"doc10 dan doc13 punya kemiripan sebesar: {:.2%}\".format(cosine912.item(0)))\n",
        "print(\"doc10 dan doc14 punya kemiripan sebesar: {:.2%}\".format(cosine913.item(0)))\n",
        "print(\"doc10 dan doc15 punya kemiripan sebesar: {:.2%}\".format(cosine914.item(0)))"
      ]
    },
    {
      "cell_type": "markdown",
      "metadata": {
        "id": "ZvRz1SoLKK0O"
      },
      "source": [
        "## Perbandingan doc11 dan doc lainnya"
      ]
    },
    {
      "cell_type": "code",
      "execution_count": null,
      "metadata": {
        "id": "p6iREtb5KK0P",
        "outputId": "0f1c10eb-a437-42e1-81b9-704ccb11538c"
      },
      "outputs": [
        {
          "name": "stdout",
          "output_type": "stream",
          "text": [
            "doc11 dan doc12 punya kemiripan sebesar: 78.89%\n",
            "doc11 dan doc13 punya kemiripan sebesar: 68.01%\n",
            "doc11 dan doc14 punya kemiripan sebesar: 81.42%\n",
            "doc11 dan doc15 punya kemiripan sebesar: 58.96%\n"
          ]
        }
      ],
      "source": [
        "cosine1011 = cosine_distances(doc10_vect, doc11_vect)\n",
        "cosine1012 = cosine_distances(doc10_vect, doc12_vect)\n",
        "cosine1013 = cosine_distances(doc10_vect, doc13_vect)\n",
        "cosine1014 = cosine_distances(doc10_vect, doc14_vect)\n",
        "\n",
        "print(\"doc11 dan doc12 punya kemiripan sebesar: {:.2%}\".format(cosine1011.item(0)))\n",
        "print(\"doc11 dan doc13 punya kemiripan sebesar: {:.2%}\".format(cosine1012.item(0)))\n",
        "print(\"doc11 dan doc14 punya kemiripan sebesar: {:.2%}\".format(cosine1013.item(0)))\n",
        "print(\"doc11 dan doc15 punya kemiripan sebesar: {:.2%}\".format(cosine1014.item(0)))"
      ]
    },
    {
      "cell_type": "markdown",
      "metadata": {
        "id": "ZBsKPNu9KK0P"
      },
      "source": [
        "## Perbandingan doc12 dan doc lainnya"
      ]
    },
    {
      "cell_type": "code",
      "execution_count": null,
      "metadata": {
        "id": "YYudalshKK0Q",
        "outputId": "2d5f79f6-69fd-4019-a69a-9f4f0a0b97ed"
      },
      "outputs": [
        {
          "name": "stdout",
          "output_type": "stream",
          "text": [
            "doc12 dan doc13 punya kemiripan sebesar: 67.60%\n",
            "doc12 dan doc14 punya kemiripan sebesar: 54.58%\n",
            "doc12 dan doc15 punya kemiripan sebesar: 77.94%\n"
          ]
        }
      ],
      "source": [
        "cosine1112 = cosine_distances(doc11_vect, doc12_vect)\n",
        "cosine1113 = cosine_distances(doc11_vect, doc13_vect)\n",
        "cosine1114 = cosine_distances(doc11_vect, doc14_vect)\n",
        "\n",
        "print(\"doc12 dan doc13 punya kemiripan sebesar: {:.2%}\".format(cosine1112.item(0)))\n",
        "print(\"doc12 dan doc14 punya kemiripan sebesar: {:.2%}\".format(cosine1113.item(0)))\n",
        "print(\"doc12 dan doc15 punya kemiripan sebesar: {:.2%}\".format(cosine1114.item(0)))"
      ]
    },
    {
      "cell_type": "markdown",
      "metadata": {
        "id": "CDoUMCQVKK0Q"
      },
      "source": [
        "## Perbandingan doc13 dan doc lainnya"
      ]
    },
    {
      "cell_type": "code",
      "execution_count": null,
      "metadata": {
        "id": "X6CGP2F0KK0Q",
        "outputId": "03443c55-e8a8-4da3-e996-1150897c994c"
      },
      "outputs": [
        {
          "name": "stdout",
          "output_type": "stream",
          "text": [
            "doc13 dan doc14 punya kemiripan sebesar: 58.51%\n",
            "doc13 dan doc15 punya kemiripan sebesar: 70.46%\n"
          ]
        }
      ],
      "source": [
        "cosine1213 = cosine_distances(doc12_vect, doc13_vect)\n",
        "cosine1214 = cosine_distances(doc12_vect, doc14_vect)\n",
        "\n",
        "print(\"doc13 dan doc14 punya kemiripan sebesar: {:.2%}\".format(cosine1213.item(0)))\n",
        "print(\"doc13 dan doc15 punya kemiripan sebesar: {:.2%}\".format(cosine1214.item(0)))"
      ]
    },
    {
      "cell_type": "markdown",
      "metadata": {
        "id": "-_4i7dv_KK0R"
      },
      "source": [
        "## Perbandingan doc14 dan doc lainnya"
      ]
    },
    {
      "cell_type": "code",
      "execution_count": null,
      "metadata": {
        "id": "Ar6v6AhbKK0R",
        "outputId": "cdf7ff65-d9e2-43af-8b22-dada1d346147"
      },
      "outputs": [
        {
          "name": "stdout",
          "output_type": "stream",
          "text": [
            "doc14 dan doc15 punya kemiripan sebesar: 77.54%\n"
          ]
        }
      ],
      "source": [
        "cosine1314 = cosine_distances(doc13_vect, doc14_vect)\n",
        "\n",
        "print(\"doc14 dan doc15 punya kemiripan sebesar: {:.2%}\".format(cosine1314.item(0)))"
      ]
    },
    {
      "cell_type": "markdown",
      "metadata": {
        "id": "nCqalbKFKK0R"
      },
      "source": [
        "## c) Euclidean Similarity"
      ]
    },
    {
      "cell_type": "markdown",
      "metadata": {
        "id": "vVKPkgs8KK0S"
      },
      "source": [
        "Euclidean merupakan salah satu metode perhitungan jarak yang digunakan untuk mengukur jarak dari 2 (dua) buah   titik   dalam Euclidean   space(meliputi bidang euclideandua dimensi, tiga dimensi, atau bahkan lebih)"
      ]
    },
    {
      "cell_type": "code",
      "execution_count": null,
      "metadata": {
        "id": "dqFK7QjqKK0S"
      },
      "outputs": [],
      "source": [
        "from sklearn.metrics.pairwise import euclidean_distances\n",
        "doc0_vect = tfidf[0].reshape(1, -1) # document1\n",
        "doc1_vect = tfidf[1].reshape(1, -1) # document2\n",
        "doc2_vect = tfidf[2].reshape(1, -1) # document3\n",
        "doc3_vect = tfidf[3].reshape(1, -1) # document4\n",
        "doc4_vect = tfidf[4].reshape(1, -1) # document5\n",
        "doc5_vect = tfidf[5].reshape(1, -1) # document6\n",
        "doc6_vect = tfidf[6].reshape(1, -1) # document7\n",
        "doc7_vect = tfidf[7].reshape(1, -1) # document8\n",
        "doc8_vect = tfidf[8].reshape(1, -1) # document9\n",
        "doc9_vect = tfidf[9].reshape(1, -1) # document10\n",
        "doc10_vect = tfidf[10].reshape(1, -1) # document11\n",
        "doc11_vect = tfidf[11].reshape(1, -1) # document12\n",
        "doc12_vect = tfidf[12].reshape(1, -1) # document13\n",
        "doc13_vect = tfidf[13].reshape(1, -1) # document14\n",
        "doc14_vect = tfidf[14].reshape(1, -1) # document15"
      ]
    },
    {
      "cell_type": "markdown",
      "metadata": {
        "id": "dvSbcaRXKK0S"
      },
      "source": [
        "## Perbandingan doc1 dan doc lainnya"
      ]
    },
    {
      "cell_type": "code",
      "execution_count": null,
      "metadata": {
        "scrolled": true,
        "id": "s-1ChzemKK0T",
        "outputId": "c526546e-346f-4f4c-a695-26135b6d8878"
      },
      "outputs": [
        {
          "name": "stdout",
          "output_type": "stream",
          "text": [
            "doc1 dan doc2 punya kemiripan sebesar: 104.78%\n",
            "doc1 dan doc3 punya kemiripan sebesar: 83.31%\n",
            "doc1 dan doc4 punya kemiripan sebesar: 123.17%\n",
            "doc1 dan doc5 punya kemiripan sebesar: 110.41%\n",
            "doc1 dan doc6 punya kemiripan sebesar: 118.17%\n",
            "doc1 dan doc7 punya kemiripan sebesar: 118.85%\n",
            "doc1 dan doc8 punya kemiripan sebesar: 114.77%\n",
            "doc1 dan doc9 punya kemiripan sebesar: 118.86%\n",
            "doc1 dan doc10 punya kemiripan sebesar: 118.74%\n",
            "doc1 dan doc11 punya kemiripan sebesar: 119.24%\n",
            "doc1 dan doc12 punya kemiripan sebesar: 128.37%\n",
            "doc1 dan doc13 punya kemiripan sebesar: 123.77%\n",
            "doc1 dan doc14 punya kemiripan sebesar: 116.10%\n",
            "doc1 dan doc15 punya kemiripan sebesar: 122.81%\n"
          ]
        }
      ],
      "source": [
        "euclidean01 = euclidean_distances(doc0_vect, doc1_vect)\n",
        "euclidean02 = euclidean_distances(doc0_vect, doc2_vect)\n",
        "euclidean03 = euclidean_distances(doc0_vect, doc3_vect)\n",
        "euclidean04 = euclidean_distances(doc0_vect, doc4_vect)\n",
        "euclidean05 = euclidean_distances(doc0_vect, doc5_vect)\n",
        "euclidean06 = euclidean_distances(doc0_vect, doc6_vect)\n",
        "euclidean07 = euclidean_distances(doc0_vect, doc7_vect)\n",
        "euclidean08 = euclidean_distances(doc0_vect, doc8_vect)\n",
        "euclidean09 = euclidean_distances(doc0_vect, doc9_vect)\n",
        "euclidean010 = euclidean_distances(doc0_vect, doc10_vect)\n",
        "euclidean011 = euclidean_distances(doc0_vect, doc11_vect)\n",
        "euclidean012 = euclidean_distances(doc0_vect, doc12_vect)\n",
        "euclidean013 = euclidean_distances(doc0_vect, doc13_vect)\n",
        "euclidean014 = euclidean_distances(doc0_vect, doc14_vect)\n",
        "\n",
        "print(\"doc1 dan doc2 punya kemiripan sebesar: {:.2%}\".format(euclidean01.item(0)))\n",
        "print(\"doc1 dan doc3 punya kemiripan sebesar: {:.2%}\".format(euclidean02.item(0)))\n",
        "print(\"doc1 dan doc4 punya kemiripan sebesar: {:.2%}\".format(euclidean03.item(0)))\n",
        "print(\"doc1 dan doc5 punya kemiripan sebesar: {:.2%}\".format(euclidean04.item(0)))\n",
        "print(\"doc1 dan doc6 punya kemiripan sebesar: {:.2%}\".format(euclidean05.item(0)))\n",
        "print(\"doc1 dan doc7 punya kemiripan sebesar: {:.2%}\".format(euclidean06.item(0)))\n",
        "print(\"doc1 dan doc8 punya kemiripan sebesar: {:.2%}\".format(euclidean07.item(0)))\n",
        "print(\"doc1 dan doc9 punya kemiripan sebesar: {:.2%}\".format(euclidean08.item(0)))\n",
        "print(\"doc1 dan doc10 punya kemiripan sebesar: {:.2%}\".format(euclidean09.item(0)))\n",
        "print(\"doc1 dan doc11 punya kemiripan sebesar: {:.2%}\".format(euclidean010.item(0)))\n",
        "print(\"doc1 dan doc12 punya kemiripan sebesar: {:.2%}\".format(euclidean011.item(0)))\n",
        "print(\"doc1 dan doc13 punya kemiripan sebesar: {:.2%}\".format(euclidean012.item(0)))\n",
        "print(\"doc1 dan doc14 punya kemiripan sebesar: {:.2%}\".format(euclidean013.item(0)))\n",
        "print(\"doc1 dan doc15 punya kemiripan sebesar: {:.2%}\".format(euclidean014.item(0)))"
      ]
    },
    {
      "cell_type": "markdown",
      "metadata": {
        "id": "9bzC3Ag-KK0T"
      },
      "source": [
        "## Perbandingan doc2 dan doc lainnya"
      ]
    },
    {
      "cell_type": "code",
      "execution_count": null,
      "metadata": {
        "id": "ya3NgaiZKK0T",
        "outputId": "f016709c-e10d-4f5f-96a5-ee40080361e1"
      },
      "outputs": [
        {
          "name": "stdout",
          "output_type": "stream",
          "text": [
            "doc2 dan doc3 punya kemiripan sebesar: 119.18%\n",
            "doc2 dan doc4 punya kemiripan sebesar: 123.50%\n",
            "doc2 dan doc5 punya kemiripan sebesar: 102.06%\n",
            "doc2 dan doc6 punya kemiripan sebesar: 118.16%\n",
            "doc2 dan doc7 punya kemiripan sebesar: 116.81%\n",
            "doc2 dan doc8 punya kemiripan sebesar: 115.59%\n",
            "doc2 dan doc9 punya kemiripan sebesar: 109.64%\n",
            "doc2 dan doc10 punya kemiripan sebesar: 120.68%\n",
            "doc2 dan doc11 punya kemiripan sebesar: 116.62%\n",
            "doc2 dan doc12 punya kemiripan sebesar: 126.06%\n",
            "doc2 dan doc13 punya kemiripan sebesar: 121.89%\n",
            "doc2 dan doc14 punya kemiripan sebesar: 123.09%\n",
            "doc2 dan doc15 punya kemiripan sebesar: 121.08%\n"
          ]
        }
      ],
      "source": [
        "euclidean12 = euclidean_distances(doc1_vect, doc2_vect)\n",
        "euclidean13 = euclidean_distances(doc1_vect, doc3_vect)\n",
        "euclidean14 = euclidean_distances(doc1_vect, doc4_vect)\n",
        "euclidean15 = euclidean_distances(doc1_vect, doc5_vect)\n",
        "euclidean16 = euclidean_distances(doc1_vect, doc6_vect)\n",
        "euclidean17 = euclidean_distances(doc1_vect, doc7_vect)\n",
        "euclidean18 = euclidean_distances(doc1_vect, doc8_vect)\n",
        "euclidean19 = euclidean_distances(doc1_vect, doc9_vect)\n",
        "euclidean110 = euclidean_distances(doc1_vect, doc10_vect)\n",
        "euclidean111 = euclidean_distances(doc1_vect, doc11_vect)\n",
        "euclidean112 = euclidean_distances(doc1_vect, doc12_vect)\n",
        "euclidean113 = euclidean_distances(doc1_vect, doc13_vect)\n",
        "euclidean114 = euclidean_distances(doc1_vect, doc14_vect)\n",
        "\n",
        "print(\"doc2 dan doc3 punya kemiripan sebesar: {:.2%}\".format(euclidean12.item(0)))\n",
        "print(\"doc2 dan doc4 punya kemiripan sebesar: {:.2%}\".format(euclidean13.item(0)))\n",
        "print(\"doc2 dan doc5 punya kemiripan sebesar: {:.2%}\".format(euclidean14.item(0)))\n",
        "print(\"doc2 dan doc6 punya kemiripan sebesar: {:.2%}\".format(euclidean15.item(0)))\n",
        "print(\"doc2 dan doc7 punya kemiripan sebesar: {:.2%}\".format(euclidean16.item(0)))\n",
        "print(\"doc2 dan doc8 punya kemiripan sebesar: {:.2%}\".format(euclidean17.item(0)))\n",
        "print(\"doc2 dan doc9 punya kemiripan sebesar: {:.2%}\".format(euclidean18.item(0)))\n",
        "print(\"doc2 dan doc10 punya kemiripan sebesar: {:.2%}\".format(euclidean19.item(0)))\n",
        "print(\"doc2 dan doc11 punya kemiripan sebesar: {:.2%}\".format(euclidean110.item(0)))\n",
        "print(\"doc2 dan doc12 punya kemiripan sebesar: {:.2%}\".format(euclidean111.item(0)))\n",
        "print(\"doc2 dan doc13 punya kemiripan sebesar: {:.2%}\".format(euclidean112.item(0)))\n",
        "print(\"doc2 dan doc14 punya kemiripan sebesar: {:.2%}\".format(euclidean113.item(0)))\n",
        "print(\"doc2 dan doc15 punya kemiripan sebesar: {:.2%}\".format(euclidean114.item(0)))"
      ]
    },
    {
      "cell_type": "markdown",
      "metadata": {
        "id": "7MrR4pKNKK0U"
      },
      "source": [
        "## Perbandingan doc3 dan doc lainnya"
      ]
    },
    {
      "cell_type": "code",
      "execution_count": null,
      "metadata": {
        "id": "8bJbZXB_KK0U",
        "outputId": "142f5ecb-9dd8-4907-abc3-5c61324a39b2"
      },
      "outputs": [
        {
          "name": "stdout",
          "output_type": "stream",
          "text": [
            "doc3 dan doc4 punya kemiripan sebesar: 125.54%\n",
            "doc3 dan doc5 punya kemiripan sebesar: 117.83%\n",
            "doc3 dan doc6 punya kemiripan sebesar: 120.71%\n",
            "doc3 dan doc7 punya kemiripan sebesar: 122.22%\n",
            "doc3 dan doc8 punya kemiripan sebesar: 121.28%\n",
            "doc3 dan doc9 punya kemiripan sebesar: 123.08%\n",
            "doc3 dan doc10 punya kemiripan sebesar: 124.48%\n",
            "doc3 dan doc11 punya kemiripan sebesar: 121.61%\n",
            "doc3 dan doc12 punya kemiripan sebesar: 130.46%\n",
            "doc3 dan doc13 punya kemiripan sebesar: 128.18%\n",
            "doc3 dan doc14 punya kemiripan sebesar: 129.55%\n",
            "doc3 dan doc15 punya kemiripan sebesar: 120.73%\n"
          ]
        }
      ],
      "source": [
        "euclidean23 = euclidean_distances(doc2_vect, doc3_vect)\n",
        "euclidean24 = euclidean_distances(doc2_vect, doc4_vect)\n",
        "euclidean25 = euclidean_distances(doc2_vect, doc5_vect)\n",
        "euclidean26 = euclidean_distances(doc2_vect, doc6_vect)\n",
        "euclidean27 = euclidean_distances(doc2_vect, doc7_vect)\n",
        "euclidean28 = euclidean_distances(doc2_vect, doc8_vect)\n",
        "euclidean29 = euclidean_distances(doc2_vect, doc9_vect)\n",
        "euclidean210 = euclidean_distances(doc2_vect, doc10_vect)\n",
        "euclidean211 = euclidean_distances(doc2_vect, doc11_vect)\n",
        "euclidean212 = euclidean_distances(doc2_vect, doc12_vect)\n",
        "euclidean213 = euclidean_distances(doc2_vect, doc13_vect)\n",
        "euclidean214 = euclidean_distances(doc2_vect, doc14_vect)\n",
        "\n",
        "print(\"doc3 dan doc4 punya kemiripan sebesar: {:.2%}\".format(euclidean23.item(0)))\n",
        "print(\"doc3 dan doc5 punya kemiripan sebesar: {:.2%}\".format(euclidean24.item(0)))\n",
        "print(\"doc3 dan doc6 punya kemiripan sebesar: {:.2%}\".format(euclidean25.item(0)))\n",
        "print(\"doc3 dan doc7 punya kemiripan sebesar: {:.2%}\".format(euclidean26.item(0)))\n",
        "print(\"doc3 dan doc8 punya kemiripan sebesar: {:.2%}\".format(euclidean27.item(0)))\n",
        "print(\"doc3 dan doc9 punya kemiripan sebesar: {:.2%}\".format(euclidean28.item(0)))\n",
        "print(\"doc3 dan doc10 punya kemiripan sebesar: {:.2%}\".format(euclidean29.item(0)))\n",
        "print(\"doc3 dan doc11 punya kemiripan sebesar: {:.2%}\".format(euclidean210.item(0)))\n",
        "print(\"doc3 dan doc12 punya kemiripan sebesar: {:.2%}\".format(euclidean211.item(0)))\n",
        "print(\"doc3 dan doc13 punya kemiripan sebesar: {:.2%}\".format(euclidean212.item(0)))\n",
        "print(\"doc3 dan doc14 punya kemiripan sebesar: {:.2%}\".format(euclidean213.item(0)))\n",
        "print(\"doc3 dan doc15 punya kemiripan sebesar: {:.2%}\".format(euclidean214.item(0)))"
      ]
    },
    {
      "cell_type": "markdown",
      "metadata": {
        "id": "yOLnCseyKK0V"
      },
      "source": [
        "## Perbandingan doc4 dan doc lainnya"
      ]
    },
    {
      "cell_type": "code",
      "execution_count": null,
      "metadata": {
        "id": "pkMxhmhlKK0V",
        "outputId": "d9c840ee-531b-4a44-8a2b-c78620d87b0c"
      },
      "outputs": [
        {
          "name": "stdout",
          "output_type": "stream",
          "text": [
            "doc4 dan doc5 punya kemiripan sebesar: 105.94%\n",
            "doc4 dan doc6 punya kemiripan sebesar: 119.91%\n",
            "doc4 dan doc7 punya kemiripan sebesar: 119.85%\n",
            "doc4 dan doc8 punya kemiripan sebesar: 105.41%\n",
            "doc4 dan doc9 punya kemiripan sebesar: 99.83%\n",
            "doc4 dan doc10 punya kemiripan sebesar: 119.45%\n",
            "doc4 dan doc11 punya kemiripan sebesar: 121.04%\n",
            "doc4 dan doc12 punya kemiripan sebesar: 118.51%\n",
            "doc4 dan doc13 punya kemiripan sebesar: 114.49%\n",
            "doc4 dan doc14 punya kemiripan sebesar: 113.11%\n",
            "doc4 dan doc15 punya kemiripan sebesar: 117.65%\n"
          ]
        }
      ],
      "source": [
        "euclidean34 = euclidean_distances(doc3_vect, doc4_vect)\n",
        "euclidean35 = euclidean_distances(doc3_vect, doc5_vect)\n",
        "euclidean36 = euclidean_distances(doc3_vect, doc6_vect)\n",
        "euclidean37 = euclidean_distances(doc3_vect, doc7_vect)\n",
        "euclidean38 = euclidean_distances(doc3_vect, doc8_vect)\n",
        "euclidean39 = euclidean_distances(doc3_vect, doc9_vect)\n",
        "euclidean310 = euclidean_distances(doc3_vect, doc10_vect)\n",
        "euclidean311 = euclidean_distances(doc3_vect, doc11_vect)\n",
        "euclidean312 = euclidean_distances(doc3_vect, doc12_vect)\n",
        "euclidean313 = euclidean_distances(doc3_vect, doc13_vect)\n",
        "euclidean314 = euclidean_distances(doc3_vect, doc14_vect)\n",
        "\n",
        "print(\"doc4 dan doc5 punya kemiripan sebesar: {:.2%}\".format(euclidean34.item(0)))\n",
        "print(\"doc4 dan doc6 punya kemiripan sebesar: {:.2%}\".format(euclidean35.item(0)))\n",
        "print(\"doc4 dan doc7 punya kemiripan sebesar: {:.2%}\".format(euclidean36.item(0)))\n",
        "print(\"doc4 dan doc8 punya kemiripan sebesar: {:.2%}\".format(euclidean37.item(0)))\n",
        "print(\"doc4 dan doc9 punya kemiripan sebesar: {:.2%}\".format(euclidean38.item(0)))\n",
        "print(\"doc4 dan doc10 punya kemiripan sebesar: {:.2%}\".format(euclidean39.item(0)))\n",
        "print(\"doc4 dan doc11 punya kemiripan sebesar: {:.2%}\".format(euclidean310.item(0)))\n",
        "print(\"doc4 dan doc12 punya kemiripan sebesar: {:.2%}\".format(euclidean311.item(0)))\n",
        "print(\"doc4 dan doc13 punya kemiripan sebesar: {:.2%}\".format(euclidean312.item(0)))\n",
        "print(\"doc4 dan doc14 punya kemiripan sebesar: {:.2%}\".format(euclidean313.item(0)))\n",
        "print(\"doc4 dan doc15 punya kemiripan sebesar: {:.2%}\".format(euclidean314.item(0)))"
      ]
    },
    {
      "cell_type": "markdown",
      "metadata": {
        "id": "mfBudtkMKK0W"
      },
      "source": [
        "## Perbandingan doc5 dan doc lainnya"
      ]
    },
    {
      "cell_type": "code",
      "execution_count": null,
      "metadata": {
        "id": "doGClDy-KK0W",
        "outputId": "9fd5110f-fdec-4510-dcb7-b775d13e8b64"
      },
      "outputs": [
        {
          "name": "stdout",
          "output_type": "stream",
          "text": [
            "doc5 dan doc6 punya kemiripan sebesar: 101.21%\n",
            "doc5 dan doc7 punya kemiripan sebesar: 109.64%\n",
            "doc5 dan doc8 punya kemiripan sebesar: 101.13%\n",
            "doc5 dan doc9 punya kemiripan sebesar: 105.46%\n",
            "doc5 dan doc10 punya kemiripan sebesar: 110.69%\n",
            "doc5 dan doc11 punya kemiripan sebesar: 101.48%\n",
            "doc5 dan doc12 punya kemiripan sebesar: 123.37%\n",
            "doc5 dan doc13 punya kemiripan sebesar: 112.41%\n",
            "doc5 dan doc14 punya kemiripan sebesar: 122.20%\n",
            "doc5 dan doc15 punya kemiripan sebesar: 109.46%\n"
          ]
        }
      ],
      "source": [
        "euclidean45 = euclidean_distances(doc4_vect, doc5_vect)\n",
        "euclidean46 = euclidean_distances(doc4_vect, doc6_vect)\n",
        "euclidean47 = euclidean_distances(doc4_vect, doc7_vect)\n",
        "euclidean48 = euclidean_distances(doc4_vect, doc8_vect)\n",
        "euclidean49 = euclidean_distances(doc4_vect, doc9_vect)\n",
        "euclidean410 = euclidean_distances(doc4_vect, doc10_vect)\n",
        "euclidean411 = euclidean_distances(doc4_vect, doc11_vect)\n",
        "euclidean412 = euclidean_distances(doc4_vect, doc12_vect)\n",
        "euclidean413 = euclidean_distances(doc4_vect, doc13_vect)\n",
        "euclidean414 = euclidean_distances(doc4_vect, doc14_vect)\n",
        "\n",
        "print(\"doc5 dan doc6 punya kemiripan sebesar: {:.2%}\".format(euclidean45.item(0)))\n",
        "print(\"doc5 dan doc7 punya kemiripan sebesar: {:.2%}\".format(euclidean46.item(0)))\n",
        "print(\"doc5 dan doc8 punya kemiripan sebesar: {:.2%}\".format(euclidean47.item(0)))\n",
        "print(\"doc5 dan doc9 punya kemiripan sebesar: {:.2%}\".format(euclidean48.item(0)))\n",
        "print(\"doc5 dan doc10 punya kemiripan sebesar: {:.2%}\".format(euclidean49.item(0)))\n",
        "print(\"doc5 dan doc11 punya kemiripan sebesar: {:.2%}\".format(euclidean410.item(0)))\n",
        "print(\"doc5 dan doc12 punya kemiripan sebesar: {:.2%}\".format(euclidean411.item(0)))\n",
        "print(\"doc5 dan doc13 punya kemiripan sebesar: {:.2%}\".format(euclidean412.item(0)))\n",
        "print(\"doc5 dan doc14 punya kemiripan sebesar: {:.2%}\".format(euclidean413.item(0)))\n",
        "print(\"doc5 dan doc15 punya kemiripan sebesar: {:.2%}\".format(euclidean414.item(0)))"
      ]
    },
    {
      "cell_type": "markdown",
      "metadata": {
        "id": "SUtdFPZJKK0X"
      },
      "source": [
        "## Perbandingan doc6 dan doc lainnya"
      ]
    },
    {
      "cell_type": "code",
      "execution_count": null,
      "metadata": {
        "id": "NgscXQ22KK0X",
        "outputId": "0e789e47-a048-4c77-ca96-b1a56536e26e"
      },
      "outputs": [
        {
          "name": "stdout",
          "output_type": "stream",
          "text": [
            "doc6 dan doc7 punya kemiripan sebesar: 105.70%\n",
            "doc6 dan doc8 punya kemiripan sebesar: 105.67%\n",
            "doc6 dan doc9 punya kemiripan sebesar: 113.75%\n",
            "doc6 dan doc10 punya kemiripan sebesar: 114.21%\n",
            "doc6 dan doc11 punya kemiripan sebesar: 77.50%\n",
            "doc6 dan doc12 punya kemiripan sebesar: 126.04%\n",
            "doc6 dan doc13 punya kemiripan sebesar: 118.16%\n",
            "doc6 dan doc14 punya kemiripan sebesar: 125.59%\n",
            "doc6 dan doc15 punya kemiripan sebesar: 99.79%\n"
          ]
        }
      ],
      "source": [
        "euclidean56 = euclidean_distances(doc5_vect, doc6_vect)\n",
        "euclidean57 = euclidean_distances(doc5_vect, doc7_vect)\n",
        "euclidean58 = euclidean_distances(doc5_vect, doc8_vect)\n",
        "euclidean59 = euclidean_distances(doc5_vect, doc9_vect)\n",
        "euclidean510 = euclidean_distances(doc5_vect, doc10_vect)\n",
        "euclidean511 = euclidean_distances(doc5_vect, doc11_vect)\n",
        "euclidean512 = euclidean_distances(doc5_vect, doc12_vect)\n",
        "euclidean513 = euclidean_distances(doc5_vect, doc13_vect)\n",
        "euclidean514 = euclidean_distances(doc5_vect, doc14_vect)\n",
        "\n",
        "print(\"doc6 dan doc7 punya kemiripan sebesar: {:.2%}\".format(euclidean56.item(0)))\n",
        "print(\"doc6 dan doc8 punya kemiripan sebesar: {:.2%}\".format(euclidean57.item(0)))\n",
        "print(\"doc6 dan doc9 punya kemiripan sebesar: {:.2%}\".format(euclidean58.item(0)))\n",
        "print(\"doc6 dan doc10 punya kemiripan sebesar: {:.2%}\".format(euclidean59.item(0)))\n",
        "print(\"doc6 dan doc11 punya kemiripan sebesar: {:.2%}\".format(euclidean510.item(0)))\n",
        "print(\"doc6 dan doc12 punya kemiripan sebesar: {:.2%}\".format(euclidean511.item(0)))\n",
        "print(\"doc6 dan doc13 punya kemiripan sebesar: {:.2%}\".format(euclidean512.item(0)))\n",
        "print(\"doc6 dan doc14 punya kemiripan sebesar: {:.2%}\".format(euclidean513.item(0)))\n",
        "print(\"doc6 dan doc15 punya kemiripan sebesar: {:.2%}\".format(euclidean514.item(0)))"
      ]
    },
    {
      "cell_type": "markdown",
      "metadata": {
        "id": "tgDQ-fiFKK0X"
      },
      "source": [
        "## Perbandingan doc7 dan doc lainnya"
      ]
    },
    {
      "cell_type": "code",
      "execution_count": null,
      "metadata": {
        "id": "ZtPkBPEyKK0Y",
        "outputId": "b87152e6-837a-425e-cc59-74fc305ee94f"
      },
      "outputs": [
        {
          "name": "stdout",
          "output_type": "stream",
          "text": [
            "doc7 dan doc8 punya kemiripan sebesar: 113.85%\n",
            "doc7 dan doc9 punya kemiripan sebesar: 116.02%\n",
            "doc7 dan doc10 punya kemiripan sebesar: 111.64%\n",
            "doc7 dan doc11 punya kemiripan sebesar: 107.90%\n",
            "doc7 dan doc12 punya kemiripan sebesar: 127.31%\n",
            "doc7 dan doc13 punya kemiripan sebesar: 121.02%\n",
            "doc7 dan doc14 punya kemiripan sebesar: 123.67%\n",
            "doc7 dan doc15 punya kemiripan sebesar: 111.31%\n"
          ]
        }
      ],
      "source": [
        "euclidean67 = euclidean_distances(doc6_vect, doc7_vect)\n",
        "euclidean68 = euclidean_distances(doc6_vect, doc8_vect)\n",
        "euclidean69 = euclidean_distances(doc6_vect, doc9_vect)\n",
        "euclidean610 = euclidean_distances(doc6_vect, doc10_vect)\n",
        "euclidean611 = euclidean_distances(doc6_vect, doc11_vect)\n",
        "euclidean612 = euclidean_distances(doc6_vect, doc12_vect)\n",
        "euclidean613 = euclidean_distances(doc6_vect, doc13_vect)\n",
        "euclidean614 = euclidean_distances(doc6_vect, doc14_vect)\n",
        "\n",
        "print(\"doc7 dan doc8 punya kemiripan sebesar: {:.2%}\".format(euclidean67.item(0)))\n",
        "print(\"doc7 dan doc9 punya kemiripan sebesar: {:.2%}\".format(euclidean68.item(0)))\n",
        "print(\"doc7 dan doc10 punya kemiripan sebesar: {:.2%}\".format(euclidean69.item(0)))\n",
        "print(\"doc7 dan doc11 punya kemiripan sebesar: {:.2%}\".format(euclidean610.item(0)))\n",
        "print(\"doc7 dan doc12 punya kemiripan sebesar: {:.2%}\".format(euclidean611.item(0)))\n",
        "print(\"doc7 dan doc13 punya kemiripan sebesar: {:.2%}\".format(euclidean612.item(0)))\n",
        "print(\"doc7 dan doc14 punya kemiripan sebesar: {:.2%}\".format(euclidean613.item(0)))\n",
        "print(\"doc7 dan doc15 punya kemiripan sebesar: {:.2%}\".format(euclidean614.item(0)))"
      ]
    },
    {
      "cell_type": "markdown",
      "metadata": {
        "id": "YXJxfcBTKK0Y"
      },
      "source": [
        "## Perbandingan doc8 dan doc lainnya"
      ]
    },
    {
      "cell_type": "code",
      "execution_count": null,
      "metadata": {
        "id": "C4fC1QvKKK0Y",
        "outputId": "7f00ae54-2b90-43a5-ae1a-c3da5cb9d7ff"
      },
      "outputs": [
        {
          "name": "stdout",
          "output_type": "stream",
          "text": [
            "doc8 dan doc9 punya kemiripan sebesar: 113.78%\n",
            "doc8 dan doc10 punya kemiripan sebesar: 92.97%\n",
            "doc8 dan doc11 punya kemiripan sebesar: 105.28%\n",
            "doc8 dan doc12 punya kemiripan sebesar: 125.82%\n",
            "doc8 dan doc13 punya kemiripan sebesar: 111.91%\n",
            "doc8 dan doc14 punya kemiripan sebesar: 115.66%\n",
            "doc8 dan doc15 punya kemiripan sebesar: 114.96%\n"
          ]
        }
      ],
      "source": [
        "euclidean78 = euclidean_distances(doc7_vect, doc8_vect)\n",
        "euclidean79 = euclidean_distances(doc7_vect, doc9_vect)\n",
        "euclidean710 = euclidean_distances(doc7_vect, doc10_vect)\n",
        "euclidean711 = euclidean_distances(doc7_vect, doc11_vect)\n",
        "euclidean712 = euclidean_distances(doc7_vect, doc12_vect)\n",
        "euclidean713 = euclidean_distances(doc7_vect, doc13_vect)\n",
        "euclidean714 = euclidean_distances(doc7_vect, doc14_vect)\n",
        "\n",
        "print(\"doc8 dan doc9 punya kemiripan sebesar: {:.2%}\".format(euclidean78.item(0)))\n",
        "print(\"doc8 dan doc10 punya kemiripan sebesar: {:.2%}\".format(euclidean79.item(0)))\n",
        "print(\"doc8 dan doc11 punya kemiripan sebesar: {:.2%}\".format(euclidean710.item(0)))\n",
        "print(\"doc8 dan doc12 punya kemiripan sebesar: {:.2%}\".format(euclidean711.item(0)))\n",
        "print(\"doc8 dan doc13 punya kemiripan sebesar: {:.2%}\".format(euclidean712.item(0)))\n",
        "print(\"doc8 dan doc14 punya kemiripan sebesar: {:.2%}\".format(euclidean713.item(0)))\n",
        "print(\"doc8 dan doc15 punya kemiripan sebesar: {:.2%}\".format(euclidean714.item(0)))"
      ]
    },
    {
      "cell_type": "markdown",
      "metadata": {
        "id": "aciOKoxeKK0Z"
      },
      "source": [
        "## Perbandingan doc9 dan doc lainnya"
      ]
    },
    {
      "cell_type": "code",
      "execution_count": null,
      "metadata": {
        "id": "yd1qZe2nKK0Z",
        "outputId": "3eef0810-62fb-41bc-8602-4899b4a0ba61"
      },
      "outputs": [
        {
          "name": "stdout",
          "output_type": "stream",
          "text": [
            "doc9 dan doc10 punya kemiripan sebesar: 121.18%\n",
            "doc9 dan doc11 punya kemiripan sebesar: 115.75%\n",
            "doc9 dan doc12 punya kemiripan sebesar: 121.39%\n",
            "doc9 dan doc13 punya kemiripan sebesar: 121.04%\n",
            "doc9 dan doc14 punya kemiripan sebesar: 120.11%\n",
            "doc9 dan doc15 punya kemiripan sebesar: 119.55%\n"
          ]
        }
      ],
      "source": [
        "euclidean89 = euclidean_distances(doc8_vect, doc9_vect)\n",
        "euclidean810 = euclidean_distances(doc8_vect, doc10_vect)\n",
        "euclidean811 = euclidean_distances(doc8_vect, doc11_vect)\n",
        "euclidean812 = euclidean_distances(doc8_vect, doc12_vect)\n",
        "euclidean813 = euclidean_distances(doc8_vect, doc13_vect)\n",
        "euclidean814 = euclidean_distances(doc8_vect, doc14_vect)\n",
        "\n",
        "print(\"doc9 dan doc10 punya kemiripan sebesar: {:.2%}\".format(euclidean89.item(0)))\n",
        "print(\"doc9 dan doc11 punya kemiripan sebesar: {:.2%}\".format(euclidean810.item(0)))\n",
        "print(\"doc9 dan doc12 punya kemiripan sebesar: {:.2%}\".format(euclidean811.item(0)))\n",
        "print(\"doc9 dan doc13 punya kemiripan sebesar: {:.2%}\".format(euclidean812.item(0)))\n",
        "print(\"doc9 dan doc14 punya kemiripan sebesar: {:.2%}\".format(euclidean813.item(0)))\n",
        "print(\"doc9 dan doc15 punya kemiripan sebesar: {:.2%}\".format(euclidean814.item(0)))"
      ]
    },
    {
      "cell_type": "markdown",
      "metadata": {
        "id": "1FFrQ47XKK0a"
      },
      "source": [
        "## Perbandingan doc10 dan doc lainnya"
      ]
    },
    {
      "cell_type": "code",
      "execution_count": null,
      "metadata": {
        "id": "ayNuCiqPKK0a",
        "outputId": "a3d23511-9656-45e8-da84-d6ab929db4bf"
      },
      "outputs": [
        {
          "name": "stdout",
          "output_type": "stream",
          "text": [
            "doc10 dan doc11 punya kemiripan sebesar: 113.99%\n",
            "doc10 dan doc12 punya kemiripan sebesar: 127.89%\n",
            "doc10 dan doc13 punya kemiripan sebesar: 116.01%\n",
            "doc10 dan doc14 punya kemiripan sebesar: 119.13%\n",
            "doc10 dan doc15 punya kemiripan sebesar: 120.73%\n"
          ]
        }
      ],
      "source": [
        "euclidean910 = euclidean_distances(doc9_vect, doc10_vect)\n",
        "euclidean911 = euclidean_distances(doc9_vect, doc11_vect)\n",
        "euclidean912 = euclidean_distances(doc9_vect, doc12_vect)\n",
        "euclidean913 = euclidean_distances(doc9_vect, doc13_vect)\n",
        "euclidean914 = euclidean_distances(doc9_vect, doc14_vect)\n",
        "\n",
        "print(\"doc10 dan doc11 punya kemiripan sebesar: {:.2%}\".format(euclidean910.item(0)))\n",
        "print(\"doc10 dan doc12 punya kemiripan sebesar: {:.2%}\".format(euclidean911.item(0)))\n",
        "print(\"doc10 dan doc13 punya kemiripan sebesar: {:.2%}\".format(euclidean912.item(0)))\n",
        "print(\"doc10 dan doc14 punya kemiripan sebesar: {:.2%}\".format(euclidean913.item(0)))\n",
        "print(\"doc10 dan doc15 punya kemiripan sebesar: {:.2%}\".format(euclidean914.item(0)))"
      ]
    },
    {
      "cell_type": "markdown",
      "metadata": {
        "id": "EFlwtwGiKK0b"
      },
      "source": [
        "## Perbandingan doc11 dan doc lainnya"
      ]
    },
    {
      "cell_type": "code",
      "execution_count": null,
      "metadata": {
        "id": "XN548_0UKK0b",
        "outputId": "2d2286cc-aa47-40c8-a537-85391c979afe"
      },
      "outputs": [
        {
          "name": "stdout",
          "output_type": "stream",
          "text": [
            "doc11 dan doc12 punya kemiripan sebesar: 125.61%\n",
            "doc11 dan doc13 punya kemiripan sebesar: 116.63%\n",
            "doc11 dan doc14 punya kemiripan sebesar: 127.61%\n",
            "doc11 dan doc15 punya kemiripan sebesar: 108.59%\n"
          ]
        }
      ],
      "source": [
        "euclidean1011 = euclidean_distances(doc10_vect, doc11_vect)\n",
        "euclidean1012 = euclidean_distances(doc10_vect, doc12_vect)\n",
        "euclidean1013 = euclidean_distances(doc10_vect, doc13_vect)\n",
        "euclidean1014 = euclidean_distances(doc10_vect, doc14_vect)\n",
        "\n",
        "print(\"doc11 dan doc12 punya kemiripan sebesar: {:.2%}\".format(euclidean1011.item(0)))\n",
        "print(\"doc11 dan doc13 punya kemiripan sebesar: {:.2%}\".format(euclidean1012.item(0)))\n",
        "print(\"doc11 dan doc14 punya kemiripan sebesar: {:.2%}\".format(euclidean1013.item(0)))\n",
        "print(\"doc11 dan doc15 punya kemiripan sebesar: {:.2%}\".format(euclidean1014.item(0)))"
      ]
    },
    {
      "cell_type": "markdown",
      "metadata": {
        "id": "o8gVi-09KK0b"
      },
      "source": [
        "## Perbandingan doc12 dan doc lainnya"
      ]
    },
    {
      "cell_type": "code",
      "execution_count": null,
      "metadata": {
        "id": "c83B-BAYKK0c",
        "outputId": "c70c21bd-69c5-4cc5-9b48-f44f9e3b9452"
      },
      "outputs": [
        {
          "name": "stdout",
          "output_type": "stream",
          "text": [
            "doc12 dan doc13 punya kemiripan sebesar: 116.28%\n",
            "doc12 dan doc14 punya kemiripan sebesar: 104.48%\n",
            "doc12 dan doc15 punya kemiripan sebesar: 124.85%\n"
          ]
        }
      ],
      "source": [
        "euclidean1112 = euclidean_distances(doc11_vect, doc12_vect)\n",
        "euclidean1113 = euclidean_distances(doc11_vect, doc13_vect)\n",
        "euclidean1114 = euclidean_distances(doc11_vect, doc14_vect)\n",
        "\n",
        "print(\"doc12 dan doc13 punya kemiripan sebesar: {:.2%}\".format(euclidean1112.item(0)))\n",
        "print(\"doc12 dan doc14 punya kemiripan sebesar: {:.2%}\".format(euclidean1113.item(0)))\n",
        "print(\"doc12 dan doc15 punya kemiripan sebesar: {:.2%}\".format(euclidean1114.item(0)))"
      ]
    },
    {
      "cell_type": "markdown",
      "metadata": {
        "id": "zoGL-8c5KK0c"
      },
      "source": [
        "## Perbandingan doc13 dan doc lainnya"
      ]
    },
    {
      "cell_type": "code",
      "execution_count": null,
      "metadata": {
        "id": "w7srXVEOKK0c",
        "outputId": "bf9e399c-3a3c-4c7c-d179-4cece0ff0886"
      },
      "outputs": [
        {
          "name": "stdout",
          "output_type": "stream",
          "text": [
            "doc13 dan doc14 punya kemiripan sebesar: 108.18%\n",
            "doc13 dan doc15 punya kemiripan sebesar: 118.71%\n"
          ]
        }
      ],
      "source": [
        "euclidean1213 = euclidean_distances(doc12_vect, doc13_vect)\n",
        "euclidean1214 = euclidean_distances(doc12_vect, doc14_vect)\n",
        "\n",
        "print(\"doc13 dan doc14 punya kemiripan sebesar: {:.2%}\".format(euclidean1213.item(0)))\n",
        "print(\"doc13 dan doc15 punya kemiripan sebesar: {:.2%}\".format(euclidean1214.item(0)))"
      ]
    },
    {
      "cell_type": "markdown",
      "metadata": {
        "id": "gSytyIrWKK0d"
      },
      "source": [
        "## Perbandingan doc14 dan doc lainnya"
      ]
    },
    {
      "cell_type": "code",
      "execution_count": null,
      "metadata": {
        "id": "HrNaN5CuKK0d",
        "outputId": "7525f1c5-4119-4d28-ebd7-7226c18fe083"
      },
      "outputs": [
        {
          "name": "stdout",
          "output_type": "stream",
          "text": [
            "doc14 dan doc15 punya kemiripan sebesar: 124.53%\n"
          ]
        }
      ],
      "source": [
        "euclidean1314 = euclidean_distances(doc13_vect, doc14_vect)\n",
        "\n",
        "print(\"doc14 dan doc15 punya kemiripan sebesar: {:.2%}\".format(euclidean1314.item(0)))"
      ]
    },
    {
      "cell_type": "markdown",
      "metadata": {
        "id": "XgzxdxQYKK0e"
      },
      "source": [
        "# Kesimpulan\n",
        "\n",
        "Jadi, setelah kami melakukan uji coba kemiripan pada dokumen yang kami ambil sebelumnya lalu kita uji coba menggunakan *Manhattan Similarity*, *Cosine Similarity* dan *Euclidean Similarity* dapat kami simpulkan bahwa menggunakan Metode  *Cosine Similarity* lebih baik dari metode yang lainnya, kok bisa sih? dikarenakan Metode ini  merupakan metode yang digunakan untuk menghitung similarity(tingkat kesamaan) antar dua buah objek. Secara umum perhitungan metode ini didasarkan pada vector space similarity measure. Metode *cosine similarity* ini menghitung similarity antara dua buah objek(misalkan D1 dan D2) yang dinyatakan dalam dua buah vector dengan menggunakan keywords (kata kunci) dari sebuah dokumen sebagai ukuran.\n",
        "\n",
        "Selain itu kita dapat melihat kemiripan dari setiap metode melalui persentasenya, tapi yang lebih masuk akal ialah *cosine similarity* mengapa? karena rata-rata dari setiap persentasenya adalah 30-85% kemiripan pada setiap dokumennya, Bila kita bandingkan dengan metode yang lain yang mencapai ratusan bahkan hingga ribuan dalam persentasenya padahal range dalam persantase hanya 1-100% yang kita ketahui.\n"
      ]
    },
    {
      "cell_type": "markdown",
      "metadata": {
        "id": "1mjp1ZeHKK0e"
      },
      "source": [
        "# Referensi\n",
        "- METODE NILAI JARAK GUNA KESAMAAN ATAU KEMIRIPANCIRI SUATU CITRA (KASUS DETEKSI AWAN CUMULONIMBUSMENGGUNAKAN PRINCIPAL COMPONENT ANALYSIS)\n",
        "- https://yudiagusta.wordpress.com/2008/05/13/similarity-measure/\n",
        "- Modul Praktikum. 2020. Case Folding. Bogor : Universitas Pakuan.\n",
        "- Modul Praktikum. 2020. Tokenizing. Bogor : Universitas Pakuan.\n",
        "- Modul Praktikum. 2020. Stemming. Bogor : Universitas Pakuan.\n",
        "- Modul Praktikum. 2020. Stopwords. Bogor : Universitas Pakuan.\n",
        "- Modul Praktikum. 2020. TF-IDF. Bogor : Universitas Pakuan.\n"
      ]
    }
  ],
  "metadata": {
    "kernelspec": {
      "display_name": "Python 3",
      "language": "python",
      "name": "python3"
    },
    "language_info": {
      "codemirror_mode": {
        "name": "ipython",
        "version": 3
      },
      "file_extension": ".py",
      "mimetype": "text/x-python",
      "name": "python",
      "nbconvert_exporter": "python",
      "pygments_lexer": "ipython3",
      "version": "3.7.4"
    },
    "colab": {
      "provenance": [],
      "include_colab_link": true
    }
  },
  "nbformat": 4,
  "nbformat_minor": 0
}